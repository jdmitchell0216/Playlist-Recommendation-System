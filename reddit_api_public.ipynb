{
 "cells": [
  {
   "cell_type": "code",
   "execution_count": 2,
   "metadata": {},
   "outputs": [],
   "source": [
    "import praw\n",
    "import re\n",
    "import numpy as np\n",
    "import pandas as pd"
   ]
  },
  {
   "cell_type": "code",
   "execution_count": 3,
   "metadata": {},
   "outputs": [],
   "source": [
    "reddit = praw.Reddit(client_id=<Client Id>,\n",
    "                     client_secret=<Client Secret>,\n",
    "                     user_agent=<platform>:<app ID>:<version string> (by /u/<Reddit username>)\n",
    "# Example user agent, android:com.example.myredditapp:v1.2.3 (by /u/kemitche)"
   ]
  },
  {
   "cell_type": "markdown",
   "metadata": {},
   "source": [
    "For information on getting started with praw, click the following link: [Praw Quick Start](https://praw.readthedocs.io/en/latest/getting_started/quick_start.html)"
   ]
  },
  {
   "cell_type": "markdown",
   "metadata": {},
   "source": [
    "## List of Spotify User IDs"
   ]
  },
  {
   "cell_type": "code",
   "execution_count": 108,
   "metadata": {},
   "outputs": [],
   "source": [
    "def get_spotify_user_ids(sub):\n",
    "    '''\n",
    "    Searches a subreddit to obtain spotify user IDs from each spotify playlist embedding\n",
    "    \n",
    "    Parameters:\n",
    "    sub is the name of the subreddit to search through for spotify playlist posts\n",
    "    \n",
    "    Returns:\n",
    "    a list of spotify user IDs. One ID for each playlist post that is found\n",
    "    \n",
    "    Notes:\n",
    "    The reddit API only allows viewing of about 1000 posts. This function uses each of the subreddit post sorting\n",
    "    methods in order to partially get around this but I have not yet confirmed that at least a few unique results\n",
    "    are being obtained from each additional sorting method.\n",
    "    '''\n",
    "    \n",
    "    sorters = ['controversial', 'gilded', 'hot', 'new', 'rising', 'top']\n",
    "    sub_instance = reddit.subreddit(sub)\n",
    "    users = []\n",
    "    for sorter in sorters:\n",
    "        gen = getattr(sub_instance, sorter)()\n",
    "        for post in gen:\n",
    "            try:\n",
    "                curr = post.media\n",
    "                if curr == None:\n",
    "                    continue\n",
    "                if curr['type'] != 'open.spotify.com':\n",
    "                    continue\n",
    "                x = re.findall(\"user%2F(.*?)%2F\", post.media['oembed']['html'])\n",
    "                users.append(x[0])\n",
    "            except Exception as e:\n",
    "                print(e)\n",
    "    return users"
   ]
  },
  {
   "cell_type": "code",
   "execution_count": 109,
   "metadata": {},
   "outputs": [],
   "source": [
    "def add_new_users(filename, potential_new_users, old_users_filename):\n",
    "    '''\n",
    "    Adds new users to a list of users if the new users are not already in the old list.\n",
    "    This function also prints the number of new users that were actually added.\n",
    "    \n",
    "    Parameters:\n",
    "    filename is the name of the json that will be saved after combining users (str)\n",
    "    potential_new_users is a list of the new users to be considered for adding (list)\n",
    "    old_users_filename is a json containing all of the old users (str)\n",
    "    \n",
    "    Returns:\n",
    "    Nothing. The combined list is saved as a json.\n",
    "    '''\n",
    "    \n",
    "    old = pd.read_json(old_users_filename)[0]\n",
    "    combined = list(set(potential_new_users)|set(old))\n",
    "    pd.DataFrame(combined).to_json(filename)\n",
    "    print(f'{len(combined) - len(old)} users added')"
   ]
  },
  {
   "cell_type": "code",
   "execution_count": 110,
   "metadata": {},
   "outputs": [],
   "source": [
    "def confirm_and_add_users(filename, old_users_filename, subreddit):\n",
    "    '''\n",
    "    Searches a subreddit to obtain spotify user IDs from each spotify playlist embedding. \n",
    "    The function then combines existing user IDs with the new IDs, keeping only unique IDs.\n",
    "    This function also prints the number of new users that were actually added.\n",
    "    \n",
    "    Parameters:\n",
    "    filename is the name of the json that will be saved after combining users (str)\n",
    "    old_users_filename is a json containing all of the old users (str)\n",
    "    subreddit is the name of the subreddit to search through for spotify playlist posts (str)\n",
    "    \n",
    "    Returns:\n",
    "    Nothing. The combined list is saved as a json.\n",
    "    '''\n",
    "    potential_new_users = get_spotify_user_ids(subreddit)\n",
    "    add_new_users(filename, potential_new_users, old_users_filename)"
   ]
  },
  {
   "cell_type": "code",
   "execution_count": 104,
   "metadata": {
    "scrolled": true
   },
   "outputs": [
    {
     "name": "stdout",
     "output_type": "stream",
     "text": [
      "list index out of range\n",
      "list index out of range\n",
      "'Comment' object has no attribute 'media'\n",
      "'Comment' object has no attribute 'media'\n",
      "'Comment' object has no attribute 'media'\n",
      "'Comment' object has no attribute 'media'\n",
      "'Comment' object has no attribute 'media'\n",
      "'Comment' object has no attribute 'media'\n",
      "'Comment' object has no attribute 'media'\n",
      "'Comment' object has no attribute 'media'\n",
      "'Comment' object has no attribute 'media'\n",
      "'Comment' object has no attribute 'media'\n",
      "'Comment' object has no attribute 'media'\n",
      "'Comment' object has no attribute 'media'\n",
      "'Comment' object has no attribute 'media'\n",
      "'Comment' object has no attribute 'media'\n",
      "'Comment' object has no attribute 'media'\n",
      "'Comment' object has no attribute 'media'\n",
      "'Comment' object has no attribute 'media'\n",
      "'Comment' object has no attribute 'media'\n",
      "'Comment' object has no attribute 'media'\n",
      "'Comment' object has no attribute 'media'\n",
      "'Comment' object has no attribute 'media'\n",
      "'Comment' object has no attribute 'media'\n",
      "'Comment' object has no attribute 'media'\n",
      "'Comment' object has no attribute 'media'\n",
      "'Comment' object has no attribute 'media'\n",
      "'Comment' object has no attribute 'media'\n",
      "'Comment' object has no attribute 'media'\n",
      "'Comment' object has no attribute 'media'\n",
      "'Comment' object has no attribute 'media'\n",
      "'Comment' object has no attribute 'media'\n",
      "'Comment' object has no attribute 'media'\n",
      "'Comment' object has no attribute 'media'\n",
      "'Comment' object has no attribute 'media'\n",
      "'Comment' object has no attribute 'media'\n",
      "'Comment' object has no attribute 'media'\n",
      "'Comment' object has no attribute 'media'\n",
      "'Comment' object has no attribute 'media'\n",
      "'Comment' object has no attribute 'media'\n",
      "'Comment' object has no attribute 'media'\n",
      "'Comment' object has no attribute 'media'\n",
      "'Comment' object has no attribute 'media'\n",
      "'Comment' object has no attribute 'media'\n",
      "list index out of range\n",
      "list index out of range\n",
      "list index out of range\n",
      "list index out of range\n",
      "list index out of range\n",
      "list index out of range\n",
      "list index out of range\n",
      "list index out of range\n",
      "list index out of range\n",
      "list index out of range\n",
      "list index out of range\n",
      "list index out of range\n",
      "19 users added\n"
     ]
    }
   ],
   "source": [
    "confirm_and_add_users('sunday_users.json', 'add_users_test', 'spotify')"
   ]
  }
 ],
 "metadata": {
  "kernelspec": {
   "display_name": "base",
   "language": "python",
   "name": "base"
  },
  "language_info": {
   "codemirror_mode": {
    "name": "ipython",
    "version": 3
   },
   "file_extension": ".py",
   "mimetype": "text/x-python",
   "name": "python",
   "nbconvert_exporter": "python",
   "pygments_lexer": "ipython3",
   "version": "3.7.1"
  },
  "varInspector": {
   "cols": {
    "lenName": 16,
    "lenType": 16,
    "lenVar": 40
   },
   "kernels_config": {
    "python": {
     "delete_cmd_postfix": "",
     "delete_cmd_prefix": "del ",
     "library": "var_list.py",
     "varRefreshCmd": "print(var_dic_list())"
    },
    "r": {
     "delete_cmd_postfix": ") ",
     "delete_cmd_prefix": "rm(",
     "library": "var_list.r",
     "varRefreshCmd": "cat(var_dic_list()) "
    }
   },
   "types_to_exclude": [
    "module",
    "function",
    "builtin_function_or_method",
    "instance",
    "_Feature"
   ],
   "window_display": false
  }
 },
 "nbformat": 4,
 "nbformat_minor": 2
}
