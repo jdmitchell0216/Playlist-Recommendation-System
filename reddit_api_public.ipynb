{
 "cells": [
  {
   "cell_type": "code",
   "execution_count": 2,
   "metadata": {},
   "outputs": [],
   "source": [
    "import praw\n",
    "import re\n",
    "import numpy as np\n",
    "import pandas as pd"
   ]
  },
  {
   "cell_type": "code",
   "execution_count": 3,
   "metadata": {},
   "outputs": [],
   "source": [
    "reddit = praw.Reddit(client_id=<Client Id>,\n",
    "                     client_secret=<Client Secret>,\n",
    "                     user_agent=<platform>:<app ID>:<version string> (by /u/<Reddit username>)\n",
    "# Example user agent, android:com.example.myredditapp:v1.2.3 (by /u/kemitche)"
   ]
  },
  {
   "cell_type": "markdown",
   "metadata": {},
   "source": [
    "For information on getting started with praw, click the following link: [Praw Quick Start](https://praw.readthedocs.io/en/latest/getting_started/quick_start.html)"
   ]
  },
  {
   "cell_type": "code",
   "execution_count": 4,
   "metadata": {},
   "outputs": [
    {
     "name": "stdout",
     "output_type": "stream",
     "text": [
      "9odpxc\n",
      "biofqm\n",
      "bl2gmb\n"
     ]
    }
   ],
   "source": [
    "for submission in reddit.subreddit('SpotifyPlaylists').hot(limit=3):\n",
    "    print(submission)"
   ]
  },
  {
   "cell_type": "code",
   "execution_count": 50,
   "metadata": {},
   "outputs": [],
   "source": [
    "test = reddit.subreddit('SpotifyPlaylists').hot(limit=5)"
   ]
  },
  {
   "cell_type": "code",
   "execution_count": 51,
   "metadata": {},
   "outputs": [],
   "source": [
    "test = [x for x in test]"
   ]
  },
  {
   "cell_type": "code",
   "execution_count": 53,
   "metadata": {},
   "outputs": [
    {
     "data": {
      "text/plain": [
       "{'type': 'open.spotify.com',\n",
       " 'oembed': {'provider_url': 'https://www.spotify.com',\n",
       "  'description': 'Feedback &amp; suggestions always welcome at edenenthusiasts579@gmail.com! Cover artist: Duran Duran',\n",
       "  'title': 'Oldies',\n",
       "  'type': 'rich',\n",
       "  'thumbnail_width': 300,\n",
       "  'height': 380,\n",
       "  'width': 300,\n",
       "  'html': '<iframe class=\"embedly-embed\" src=\"https://cdn.embedly.com/widgets/media.html?src=https%3A%2F%2Fopen.spotify.com%2Fembed%2Fplaylist%2F3HlCwtWTquLkLb4Sfj8Qyd&url=https%3A%2F%2Fopen.spotify.com%2Fuser%2Fedenenthusiasts579%2Fplaylist%2F3HlCwtWTquLkLb4Sfj8Qyd&image=https%3A%2F%2Fpl.scdn.co%2Fimages%2Fpl%2Fdefault%2Fd4bd075cd11262a752e7086f6dc3728bede6561c&key=ed8fa8699ce04833838e66ce79ba05f1&type=text%2Fhtml&schema=spotify\" width=\"300\" height=\"380\" scrolling=\"no\" frameborder=\"0\" allow=\"autoplay; fullscreen\" allowfullscreen=\"true\"></iframe>',\n",
       "  'version': '1.0',\n",
       "  'provider_name': 'Spotify',\n",
       "  'thumbnail_url': 'https://pl.scdn.co/images/pl/default/d4bd075cd11262a752e7086f6dc3728bede6561c',\n",
       "  'thumbnail_height': 299}}"
      ]
     },
     "execution_count": 53,
     "metadata": {},
     "output_type": "execute_result"
    }
   ],
   "source": [
    "test[2].media"
   ]
  },
  {
   "cell_type": "code",
   "execution_count": 52,
   "metadata": {},
   "outputs": [
    {
     "data": {
      "text/plain": [
       "{'content': '<iframe class=\"embedly-embed\" src=\"https://cdn.embedly.com/widgets/media.html?src=https%3A%2F%2Fopen.spotify.com%2Fembed%2Fplaylist%2F3HlCwtWTquLkLb4Sfj8Qyd&url=https%3A%2F%2Fopen.spotify.com%2Fuser%2Fedenenthusiasts579%2Fplaylist%2F3HlCwtWTquLkLb4Sfj8Qyd&image=https%3A%2F%2Fpl.scdn.co%2Fimages%2Fpl%2Fdefault%2Fd4bd075cd11262a752e7086f6dc3728bede6561c&key=ed8fa8699ce04833838e66ce79ba05f1&type=text%2Fhtml&schema=spotify\" width=\"300\" height=\"380\" scrolling=\"no\" frameborder=\"0\" allow=\"autoplay; fullscreen\" allowfullscreen=\"true\"></iframe>',\n",
       " 'width': 300,\n",
       " 'scrolling': False,\n",
       " 'height': 380}"
      ]
     },
     "execution_count": 52,
     "metadata": {},
     "output_type": "execute_result"
    }
   ],
   "source": [
    "test[2].media_embed"
   ]
  },
  {
   "cell_type": "code",
   "execution_count": 58,
   "metadata": {},
   "outputs": [
    {
     "name": "stdout",
     "output_type": "stream",
     "text": [
      "test\n"
     ]
    }
   ],
   "source": [
    "if test[1].media == None:\n",
    "    print('test')"
   ]
  },
  {
   "cell_type": "code",
   "execution_count": 59,
   "metadata": {},
   "outputs": [],
   "source": [
    "if test[2].media == None:\n",
    "    print('test')"
   ]
  },
  {
   "cell_type": "code",
   "execution_count": 60,
   "metadata": {},
   "outputs": [],
   "source": [
    "spot_play = reddit.subreddit('SpotifyPlaylists')"
   ]
  },
  {
   "cell_type": "code",
   "execution_count": 61,
   "metadata": {},
   "outputs": [],
   "source": [
    "test_gen = spot_play.new()"
   ]
  },
  {
   "cell_type": "code",
   "execution_count": 62,
   "metadata": {},
   "outputs": [],
   "source": [
    "users = []\n",
    "for post in test_gen:\n",
    "    try:\n",
    "        curr = post.media\n",
    "        if curr == None:\n",
    "            continue\n",
    "        if curr['type'] != 'open.spotify.com':\n",
    "            continue\n",
    "        x = re.findall(\"user%2F(.*?)%2F\", post.media['oembed']['html'])\n",
    "        users.append(x)\n",
    "    except:\n",
    "        print('excepted')"
   ]
  },
  {
   "cell_type": "markdown",
   "metadata": {},
   "source": [
    "## List of Spotify User IDs"
   ]
  },
  {
   "cell_type": "code",
   "execution_count": 75,
   "metadata": {},
   "outputs": [
    {
     "name": "stdout",
     "output_type": "stream",
     "text": [
      "['21wrl565xwgqwp75r5sk6ntsi']\n"
     ]
    }
   ],
   "source": [
    "x = re.findall(\"user%2F(.*?)%2F\", post_test.media['oembed']['html'])\n",
    "print(x)"
   ]
  },
  {
   "cell_type": "code",
   "execution_count": 93,
   "metadata": {},
   "outputs": [],
   "source": [
    "test_gen = reddit.subreddit('SpotifyPlaylists').new()\n",
    "users = []\n",
    "for post in test_gen:\n",
    "    try:\n",
    "        curr = post.media\n",
    "        if curr == None:\n",
    "            continue\n",
    "        if curr['type'] != 'open.spotify.com':\n",
    "            continue\n",
    "        x = re.findall(\"user%2F(.*?)%2F\", post.media['oembed']['html'])\n",
    "        users.append(x)\n",
    "    except:\n",
    "        print('excepted')"
   ]
  },
  {
   "cell_type": "code",
   "execution_count": 94,
   "metadata": {
    "scrolled": true
   },
   "outputs": [
    {
     "data": {
      "text/plain": [
       "[['jaysnbrwn'],\n",
       " ['2p1bf9t77iet1qrhtmwjpx4fl'],\n",
       " ['2p1bf9t77iet1qrhtmwjpx4fl'],\n",
       " ['2p1bf9t77iet1qrhtmwjpx4fl'],\n",
       " ['2p1bf9t77iet1qrhtmwjpx4fl'],\n",
       " ['2p1bf9t77iet1qrhtmwjpx4fl'],\n",
       " ['jpmillermusic'],\n",
       " ['21n2ku53disfrt53dgeg3vbki'],\n",
       " ['therealblackkevin'],\n",
       " ['h11io8qoeta4gtims2qqh85bw'],\n",
       " ['listanauta'],\n",
       " ['21wrl565xwgqwp75r5sk6ntsi'],\n",
       " ['12154946292'],\n",
       " ['g7x9bwan0vjgyo5zrgjuacrzv'],\n",
       " ['speny7'],\n",
       " ['irvine_rain'],\n",
       " [],\n",
       " ['1264767314'],\n",
       " ['eewm2rm0xq79vd8rxs6uws8aa'],\n",
       " ['1215224467'],\n",
       " ['listanauta'],\n",
       " ['118179227'],\n",
       " ['2p1bf9t77iet1qrhtmwjpx4fl'],\n",
       " ['j24mfmh952op6qcgn3mojtrf6'],\n",
       " ['yrl11as7fq5yzkzrquzftkbxe'],\n",
       " ['therealblackkevin'],\n",
       " ['j24mfmh952op6qcgn3mojtrf6'],\n",
       " ['go71sqdu4tlp97bhtiu7d0prq'],\n",
       " ['technozem'],\n",
       " ['webbstur'],\n",
       " ['21tqqng7wmhpenjmshse67lda'],\n",
       " ['kimjoh88'],\n",
       " [],\n",
       " ['1217502107'],\n",
       " ['7a5qo1dmbkk1pte3mszyoq4sv'],\n",
       " ['pfafulous'],\n",
       " ['cool25angel'],\n",
       " ['2p1bf9t77iet1qrhtmwjpx4fl'],\n",
       " [],\n",
       " [],\n",
       " [],\n",
       " ['2p1bf9t77iet1qrhtmwjpx4fl'],\n",
       " [],\n",
       " ['212tnazcrrn7pprlaztfbdfzq'],\n",
       " ['7a5qo1dmbkk1pte3mszyoq4sv'],\n",
       " ['2p1bf9t77iet1qrhtmwjpx4fl'],\n",
       " [],\n",
       " ['guitaromnivore'],\n",
       " ['u0pic7waej6uozokeqrizy9mc'],\n",
       " ['liviubot'],\n",
       " ['2p1bf9t77iet1qrhtmwjpx4fl'],\n",
       " ['guitaromnivore'],\n",
       " ['2p1bf9t77iet1qrhtmwjpx4fl'],\n",
       " ['2p1bf9t77iet1qrhtmwjpx4fl'],\n",
       " ['skorne13'],\n",
       " ['nqfz40tljttqsfao7gv9ui8zv'],\n",
       " ['2p1bf9t77iet1qrhtmwjpx4fl'],\n",
       " ['2p1bf9t77iet1qrhtmwjpx4fl'],\n",
       " [],\n",
       " ['3qlfkdwslxodti7oe8622h0m8'],\n",
       " ['12179878390'],\n",
       " ['czechfencer'],\n",
       " ['peeky93'],\n",
       " ['2p1bf9t77iet1qrhtmwjpx4fl'],\n",
       " ['j24mfmh952op6qcgn3mojtrf6'],\n",
       " ['j24mfmh952op6qcgn3mojtrf6'],\n",
       " ['asleyw27'],\n",
       " ['haschurig'],\n",
       " ['ajhqcllc7fohqpwa0vc7eubgz'],\n",
       " ['lefuturewave'],\n",
       " ['wintervestermc'],\n",
       " ['corinavos'],\n",
       " ['21ybmcd73ciwsrb42v53cnhga'],\n",
       " ['celesteee97'],\n",
       " ['12102288431'],\n",
       " ['muktadirabdul12345'],\n",
       " ['oldtowneast'],\n",
       " [],\n",
       " ['12183617979'],\n",
       " []]"
      ]
     },
     "execution_count": 94,
     "metadata": {},
     "output_type": "execute_result"
    }
   ],
   "source": [
    "users"
   ]
  },
  {
   "cell_type": "code",
   "execution_count": 108,
   "metadata": {},
   "outputs": [],
   "source": [
    "def get_spotify_user_ids(sub):\n",
    "    '''\n",
    "    Searches a subreddit to obtain spotify user IDs from each spotify playlist embedding\n",
    "    \n",
    "    Parameters:\n",
    "    sub is the name of the subreddit to search through for spotify playlist posts\n",
    "    \n",
    "    Returns:\n",
    "    a list of spotify user IDs. One ID for each playlist post that is found\n",
    "    \n",
    "    Notes:\n",
    "    The reddit API only allows viewing of about 1000 posts. This function uses each of the subreddit post sorting\n",
    "    methods in order to partially get around this but I have not yet confirmed that at least a few unique results\n",
    "    are being obtained from each additional sorting method.\n",
    "    '''\n",
    "    \n",
    "    sorters = ['controversial', 'gilded', 'hot', 'new', 'rising', 'top']\n",
    "    sub_instance = reddit.subreddit(sub)\n",
    "    users = []\n",
    "    for sorter in sorters:\n",
    "        gen = getattr(sub_instance, sorter)()\n",
    "        for post in gen:\n",
    "            try:\n",
    "                curr = post.media\n",
    "                if curr == None:\n",
    "                    continue\n",
    "                if curr['type'] != 'open.spotify.com':\n",
    "                    continue\n",
    "                x = re.findall(\"user%2F(.*?)%2F\", post.media['oembed']['html'])\n",
    "                users.append(x[0])\n",
    "            except Exception as e:\n",
    "                print(e)\n",
    "    return users"
   ]
  },
  {
   "cell_type": "code",
   "execution_count": 109,
   "metadata": {},
   "outputs": [],
   "source": [
    "def add_new_users(filename, potential_new_users, old_users_filename):\n",
    "    '''\n",
    "    Adds new users to a list of users if the new users are not already in the old list.\n",
    "    This function also prints the number of new users that were actually added.\n",
    "    \n",
    "    Parameters:\n",
    "    filename is the name of the json that will be saved after combining users (str)\n",
    "    potential_new_users is a list of the new users to be considered for adding (list)\n",
    "    old_users_filename is a json containing all of the old users (str)\n",
    "    \n",
    "    Returns:\n",
    "    Nothing. The combined list is saved as a json.\n",
    "    '''\n",
    "    \n",
    "    old = pd.read_json(old_users_filename)[0]\n",
    "    combined = list(set(potential_new_users)|set(old))\n",
    "    pd.DataFrame(combined).to_json(filename)\n",
    "    print(f'{len(combined) - len(old)} users added')"
   ]
  },
  {
   "cell_type": "code",
   "execution_count": 110,
   "metadata": {},
   "outputs": [],
   "source": [
    "def confirm_and_add_users(filename, old_users_filename, subreddit):\n",
    "    '''\n",
    "    Searches a subreddit to obtain spotify user IDs from each spotify playlist embedding. \n",
    "    The function then combines existing user IDs with the new IDs, keeping only unique IDs.\n",
    "    This function also prints the number of new users that were actually added.\n",
    "    \n",
    "    Parameters:\n",
    "    filename is the name of the json that will be saved after combining users (str)\n",
    "    old_users_filename is a json containing all of the old users (str)\n",
    "    subreddit is the name of the subreddit to search through for spotify playlist posts (str)\n",
    "    \n",
    "    Returns:\n",
    "    Nothing. The combined list is saved as a json.\n",
    "    '''\n",
    "    potential_new_users = get_spotify_user_ids(subreddit)\n",
    "    add_new_users(filename, potential_new_users, old_users_filename)"
   ]
  },
  {
   "cell_type": "code",
   "execution_count": 77,
   "metadata": {},
   "outputs": [
    {
     "name": "stdout",
     "output_type": "stream",
     "text": [
      "Chill latenight rap playlist\n",
      "FLAIRS FOR GENRE SPECIFIC PLAYLIST HAVE NOW BEEN ENABLED!\n",
      "Trap Diamonds, the keys to the hottest songs (Future, Young Thug, Gunna, Lil Baby) -updated weekly\n",
      "Daydreams, a playlist by Carlo Rogall on Spotify\n",
      "Hip Hop Mosh Pit, my favorite hype hip hop tracks all in one place\n"
     ]
    }
   ],
   "source": [
    "sorters = ['controversial', 'hot', 'new', 'rising', 'top']\n",
    "for sorter in sorters:\n",
    "    gen = getattr(reddit.subreddit('SpotifyPlaylists'), sorter)()\n",
    "    print(list(gen)[0].title)"
   ]
  },
  {
   "cell_type": "code",
   "execution_count": 78,
   "metadata": {},
   "outputs": [
    {
     "name": "stdout",
     "output_type": "stream",
     "text": [
      "Spotify has finally made a statement regarding their 10,000 song limit\n",
      "Spotify playlist competition: May edition. The longlist!\n",
      "An Indie Existential Playlist - perfect music for a midlife crisis\n",
      "MTV's 120 Minutes 1991. All the songs (available on Spotify) that have been played on the show in 1991!\n",
      "Fuck off with drake already\n"
     ]
    }
   ],
   "source": [
    "sorters = ['controversial', 'hot', 'new', 'rising', 'top']\n",
    "for sorter in sorters:\n",
    "    gen = getattr(reddit.subreddit('spotify'), sorter)()\n",
    "    print(list(gen)[0].title)"
   ]
  },
  {
   "cell_type": "code",
   "execution_count": 70,
   "metadata": {},
   "outputs": [
    {
     "data": {
      "text/plain": [
       "['d', 'e', 'c', 'b', 'a']"
      ]
     },
     "execution_count": 70,
     "metadata": {},
     "output_type": "execute_result"
    }
   ],
   "source": [
    "list(set(['a','b','c','d'])|set(['c','d','e']))"
   ]
  },
  {
   "cell_type": "code",
   "execution_count": 80,
   "metadata": {},
   "outputs": [],
   "source": [
    "users = pd.read_json('user_ids_fri.json')"
   ]
  },
  {
   "cell_type": "code",
   "execution_count": 90,
   "metadata": {},
   "outputs": [
    {
     "data": {
      "text/plain": [
       "305"
      ]
     },
     "execution_count": 90,
     "metadata": {},
     "output_type": "execute_result"
    }
   ],
   "source": [
    "len(set(users[0]))"
   ]
  },
  {
   "cell_type": "code",
   "execution_count": 104,
   "metadata": {
    "scrolled": true
   },
   "outputs": [
    {
     "name": "stdout",
     "output_type": "stream",
     "text": [
      "list index out of range\n",
      "list index out of range\n",
      "'Comment' object has no attribute 'media'\n",
      "'Comment' object has no attribute 'media'\n",
      "'Comment' object has no attribute 'media'\n",
      "'Comment' object has no attribute 'media'\n",
      "'Comment' object has no attribute 'media'\n",
      "'Comment' object has no attribute 'media'\n",
      "'Comment' object has no attribute 'media'\n",
      "'Comment' object has no attribute 'media'\n",
      "'Comment' object has no attribute 'media'\n",
      "'Comment' object has no attribute 'media'\n",
      "'Comment' object has no attribute 'media'\n",
      "'Comment' object has no attribute 'media'\n",
      "'Comment' object has no attribute 'media'\n",
      "'Comment' object has no attribute 'media'\n",
      "'Comment' object has no attribute 'media'\n",
      "'Comment' object has no attribute 'media'\n",
      "'Comment' object has no attribute 'media'\n",
      "'Comment' object has no attribute 'media'\n",
      "'Comment' object has no attribute 'media'\n",
      "'Comment' object has no attribute 'media'\n",
      "'Comment' object has no attribute 'media'\n",
      "'Comment' object has no attribute 'media'\n",
      "'Comment' object has no attribute 'media'\n",
      "'Comment' object has no attribute 'media'\n",
      "'Comment' object has no attribute 'media'\n",
      "'Comment' object has no attribute 'media'\n",
      "'Comment' object has no attribute 'media'\n",
      "'Comment' object has no attribute 'media'\n",
      "'Comment' object has no attribute 'media'\n",
      "'Comment' object has no attribute 'media'\n",
      "'Comment' object has no attribute 'media'\n",
      "'Comment' object has no attribute 'media'\n",
      "'Comment' object has no attribute 'media'\n",
      "'Comment' object has no attribute 'media'\n",
      "'Comment' object has no attribute 'media'\n",
      "'Comment' object has no attribute 'media'\n",
      "'Comment' object has no attribute 'media'\n",
      "'Comment' object has no attribute 'media'\n",
      "'Comment' object has no attribute 'media'\n",
      "'Comment' object has no attribute 'media'\n",
      "'Comment' object has no attribute 'media'\n",
      "'Comment' object has no attribute 'media'\n",
      "list index out of range\n",
      "list index out of range\n",
      "list index out of range\n",
      "list index out of range\n",
      "list index out of range\n",
      "list index out of range\n",
      "list index out of range\n",
      "list index out of range\n",
      "list index out of range\n",
      "list index out of range\n",
      "list index out of range\n",
      "list index out of range\n",
      "19 users added\n"
     ]
    }
   ],
   "source": [
    "confirm_and_add_users('sunday_users.json', 'add_users_test', 'spotify')"
   ]
  },
  {
   "cell_type": "code",
   "execution_count": 95,
   "metadata": {},
   "outputs": [],
   "source": [
    "add_new_users('add_users_test', result, 'user_ids_fri.json')"
   ]
  },
  {
   "cell_type": "code",
   "execution_count": 96,
   "metadata": {},
   "outputs": [],
   "source": [
    "df_test = pd.read_json('add_users_test')"
   ]
  },
  {
   "cell_type": "code",
   "execution_count": 97,
   "metadata": {},
   "outputs": [
    {
     "data": {
      "text/html": [
       "<div>\n",
       "<style scoped>\n",
       "    .dataframe tbody tr th:only-of-type {\n",
       "        vertical-align: middle;\n",
       "    }\n",
       "\n",
       "    .dataframe tbody tr th {\n",
       "        vertical-align: top;\n",
       "    }\n",
       "\n",
       "    .dataframe thead th {\n",
       "        text-align: right;\n",
       "    }\n",
       "</style>\n",
       "<table border=\"1\" class=\"dataframe\">\n",
       "  <thead>\n",
       "    <tr style=\"text-align: right;\">\n",
       "      <th></th>\n",
       "      <th>0</th>\n",
       "    </tr>\n",
       "  </thead>\n",
       "  <tbody>\n",
       "    <tr>\n",
       "      <th>0</th>\n",
       "      <td>funkyflurry</td>\n",
       "    </tr>\n",
       "    <tr>\n",
       "      <th>1</th>\n",
       "      <td>02elipxw57a31hwndk0lw8qj9</td>\n",
       "    </tr>\n",
       "    <tr>\n",
       "      <th>10</th>\n",
       "      <td>y8ckdoefgmeivcsw8uqq3v5nh</td>\n",
       "    </tr>\n",
       "    <tr>\n",
       "      <th>100</th>\n",
       "      <td>tunenewmusic</td>\n",
       "    </tr>\n",
       "    <tr>\n",
       "      <th>101</th>\n",
       "      <td>edenenthusiasts579</td>\n",
       "    </tr>\n",
       "    <tr>\n",
       "      <th>102</th>\n",
       "      <td>12159343750</td>\n",
       "    </tr>\n",
       "    <tr>\n",
       "      <th>103</th>\n",
       "      <td>h11io8qoeta4gtims2qqh85bw</td>\n",
       "    </tr>\n",
       "    <tr>\n",
       "      <th>104</th>\n",
       "      <td>brendan.ta</td>\n",
       "    </tr>\n",
       "    <tr>\n",
       "      <th>105</th>\n",
       "      <td>kimjoh88</td>\n",
       "    </tr>\n",
       "    <tr>\n",
       "      <th>106</th>\n",
       "      <td>1122115847</td>\n",
       "    </tr>\n",
       "    <tr>\n",
       "      <th>107</th>\n",
       "      <td>1126708296</td>\n",
       "    </tr>\n",
       "    <tr>\n",
       "      <th>108</th>\n",
       "      <td>nghibrandon</td>\n",
       "    </tr>\n",
       "    <tr>\n",
       "      <th>109</th>\n",
       "      <td>ipv2otj7xhuxwf1xl1czsun5q</td>\n",
       "    </tr>\n",
       "    <tr>\n",
       "      <th>11</th>\n",
       "      <td>webbstur</td>\n",
       "    </tr>\n",
       "    <tr>\n",
       "      <th>110</th>\n",
       "      <td>3142mwop3oevrd3xaik7mhz7oia4</td>\n",
       "    </tr>\n",
       "    <tr>\n",
       "      <th>111</th>\n",
       "      <td>karlseno</td>\n",
       "    </tr>\n",
       "    <tr>\n",
       "      <th>112</th>\n",
       "      <td>12172782523</td>\n",
       "    </tr>\n",
       "    <tr>\n",
       "      <th>113</th>\n",
       "      <td>21z4u2yxqywz3liojsurgsnmq</td>\n",
       "    </tr>\n",
       "    <tr>\n",
       "      <th>114</th>\n",
       "      <td>mnmh960emaqo0zim0kpf2bxfb</td>\n",
       "    </tr>\n",
       "    <tr>\n",
       "      <th>115</th>\n",
       "      <td>223vmnxig7x7roeureq27vdhy</td>\n",
       "    </tr>\n",
       "    <tr>\n",
       "      <th>116</th>\n",
       "      <td>1255398835</td>\n",
       "    </tr>\n",
       "    <tr>\n",
       "      <th>117</th>\n",
       "      <td>mclovin_music</td>\n",
       "    </tr>\n",
       "    <tr>\n",
       "      <th>118</th>\n",
       "      <td>pkluong</td>\n",
       "    </tr>\n",
       "    <tr>\n",
       "      <th>119</th>\n",
       "      <td>21gqo4zcpa632r5suvt4zoysi</td>\n",
       "    </tr>\n",
       "    <tr>\n",
       "      <th>12</th>\n",
       "      <td>1251404192</td>\n",
       "    </tr>\n",
       "    <tr>\n",
       "      <th>120</th>\n",
       "      <td>12153942848</td>\n",
       "    </tr>\n",
       "    <tr>\n",
       "      <th>121</th>\n",
       "      <td>pfafulous</td>\n",
       "    </tr>\n",
       "    <tr>\n",
       "      <th>122</th>\n",
       "      <td>1236033088</td>\n",
       "    </tr>\n",
       "    <tr>\n",
       "      <th>123</th>\n",
       "      <td>1264767314</td>\n",
       "    </tr>\n",
       "    <tr>\n",
       "      <th>124</th>\n",
       "      <td>122599543</td>\n",
       "    </tr>\n",
       "    <tr>\n",
       "      <th>...</th>\n",
       "      <td>...</td>\n",
       "    </tr>\n",
       "    <tr>\n",
       "      <th>72</th>\n",
       "      <td>1260612221</td>\n",
       "    </tr>\n",
       "    <tr>\n",
       "      <th>73</th>\n",
       "      <td>n3za3rtz56krd18bffdwwuhqr</td>\n",
       "    </tr>\n",
       "    <tr>\n",
       "      <th>74</th>\n",
       "      <td>121028447</td>\n",
       "    </tr>\n",
       "    <tr>\n",
       "      <th>75</th>\n",
       "      <td>notgracexd</td>\n",
       "    </tr>\n",
       "    <tr>\n",
       "      <th>76</th>\n",
       "      <td>yrl11as7fq5yzkzrquzftkbxe</td>\n",
       "    </tr>\n",
       "    <tr>\n",
       "      <th>77</th>\n",
       "      <td>v1no9xgtewfrd1h4nhribuh10</td>\n",
       "    </tr>\n",
       "    <tr>\n",
       "      <th>78</th>\n",
       "      <td>epm-music</td>\n",
       "    </tr>\n",
       "    <tr>\n",
       "      <th>79</th>\n",
       "      <td>djleonid1995</td>\n",
       "    </tr>\n",
       "    <tr>\n",
       "      <th>8</th>\n",
       "      <td>50ck3ofbij83xqfl0omf27igm</td>\n",
       "    </tr>\n",
       "    <tr>\n",
       "      <th>80</th>\n",
       "      <td>open_heavens</td>\n",
       "    </tr>\n",
       "    <tr>\n",
       "      <th>81</th>\n",
       "      <td>warddeblonde</td>\n",
       "    </tr>\n",
       "    <tr>\n",
       "      <th>82</th>\n",
       "      <td>odl37umark1ofsxpkk5lqn7cd</td>\n",
       "    </tr>\n",
       "    <tr>\n",
       "      <th>83</th>\n",
       "      <td>83vwkvb6l83s1exev977gilgr</td>\n",
       "    </tr>\n",
       "    <tr>\n",
       "      <th>84</th>\n",
       "      <td>1156869894</td>\n",
       "    </tr>\n",
       "    <tr>\n",
       "      <th>85</th>\n",
       "      <td>owenssm4</td>\n",
       "    </tr>\n",
       "    <tr>\n",
       "      <th>86</th>\n",
       "      <td>alextryon1</td>\n",
       "    </tr>\n",
       "    <tr>\n",
       "      <th>87</th>\n",
       "      <td>dylan.kelly02</td>\n",
       "    </tr>\n",
       "    <tr>\n",
       "      <th>88</th>\n",
       "      <td>j24mfmh952op6qcgn3mojtrf6</td>\n",
       "    </tr>\n",
       "    <tr>\n",
       "      <th>89</th>\n",
       "      <td>slc9l37incu5srauw4kthv2nh</td>\n",
       "    </tr>\n",
       "    <tr>\n",
       "      <th>9</th>\n",
       "      <td>1218050784</td>\n",
       "    </tr>\n",
       "    <tr>\n",
       "      <th>90</th>\n",
       "      <td>1231174271</td>\n",
       "    </tr>\n",
       "    <tr>\n",
       "      <th>91</th>\n",
       "      <td>jwg2695</td>\n",
       "    </tr>\n",
       "    <tr>\n",
       "      <th>92</th>\n",
       "      <td>21n2ku53disfrt53dgeg3vbki</td>\n",
       "    </tr>\n",
       "    <tr>\n",
       "      <th>93</th>\n",
       "      <td>astronautnorway</td>\n",
       "    </tr>\n",
       "    <tr>\n",
       "      <th>94</th>\n",
       "      <td>9nc3mlqc24u28i6zuhuj6dufb</td>\n",
       "    </tr>\n",
       "    <tr>\n",
       "      <th>95</th>\n",
       "      <td>listanauta</td>\n",
       "    </tr>\n",
       "    <tr>\n",
       "      <th>96</th>\n",
       "      <td>1117672565</td>\n",
       "    </tr>\n",
       "    <tr>\n",
       "      <th>97</th>\n",
       "      <td>joyegwong</td>\n",
       "    </tr>\n",
       "    <tr>\n",
       "      <th>98</th>\n",
       "      <td>fncymwuweed55jiwa6ytzu4t5</td>\n",
       "    </tr>\n",
       "    <tr>\n",
       "      <th>99</th>\n",
       "      <td>dadacoi</td>\n",
       "    </tr>\n",
       "  </tbody>\n",
       "</table>\n",
       "<p>354 rows × 1 columns</p>\n",
       "</div>"
      ],
      "text/plain": [
       "                                0\n",
       "0                     funkyflurry\n",
       "1       02elipxw57a31hwndk0lw8qj9\n",
       "10      y8ckdoefgmeivcsw8uqq3v5nh\n",
       "100                  tunenewmusic\n",
       "101            edenenthusiasts579\n",
       "102                   12159343750\n",
       "103     h11io8qoeta4gtims2qqh85bw\n",
       "104                    brendan.ta\n",
       "105                      kimjoh88\n",
       "106                    1122115847\n",
       "107                    1126708296\n",
       "108                   nghibrandon\n",
       "109     ipv2otj7xhuxwf1xl1czsun5q\n",
       "11                       webbstur\n",
       "110  3142mwop3oevrd3xaik7mhz7oia4\n",
       "111                      karlseno\n",
       "112                   12172782523\n",
       "113     21z4u2yxqywz3liojsurgsnmq\n",
       "114     mnmh960emaqo0zim0kpf2bxfb\n",
       "115     223vmnxig7x7roeureq27vdhy\n",
       "116                    1255398835\n",
       "117                 mclovin_music\n",
       "118                       pkluong\n",
       "119     21gqo4zcpa632r5suvt4zoysi\n",
       "12                     1251404192\n",
       "120                   12153942848\n",
       "121                     pfafulous\n",
       "122                    1236033088\n",
       "123                    1264767314\n",
       "124                     122599543\n",
       "..                            ...\n",
       "72                     1260612221\n",
       "73      n3za3rtz56krd18bffdwwuhqr\n",
       "74                      121028447\n",
       "75                     notgracexd\n",
       "76      yrl11as7fq5yzkzrquzftkbxe\n",
       "77      v1no9xgtewfrd1h4nhribuh10\n",
       "78                      epm-music\n",
       "79                   djleonid1995\n",
       "8       50ck3ofbij83xqfl0omf27igm\n",
       "80                   open_heavens\n",
       "81                   warddeblonde\n",
       "82      odl37umark1ofsxpkk5lqn7cd\n",
       "83      83vwkvb6l83s1exev977gilgr\n",
       "84                     1156869894\n",
       "85                       owenssm4\n",
       "86                     alextryon1\n",
       "87                  dylan.kelly02\n",
       "88      j24mfmh952op6qcgn3mojtrf6\n",
       "89      slc9l37incu5srauw4kthv2nh\n",
       "9                      1218050784\n",
       "90                     1231174271\n",
       "91                        jwg2695\n",
       "92      21n2ku53disfrt53dgeg3vbki\n",
       "93                astronautnorway\n",
       "94      9nc3mlqc24u28i6zuhuj6dufb\n",
       "95                     listanauta\n",
       "96                     1117672565\n",
       "97                      joyegwong\n",
       "98      fncymwuweed55jiwa6ytzu4t5\n",
       "99                        dadacoi\n",
       "\n",
       "[354 rows x 1 columns]"
      ]
     },
     "execution_count": 97,
     "metadata": {},
     "output_type": "execute_result"
    }
   ],
   "source": [
    "df_test"
   ]
  },
  {
   "cell_type": "code",
   "execution_count": 92,
   "metadata": {},
   "outputs": [
    {
     "name": "stdout",
     "output_type": "stream",
     "text": [
      "list index out of range\n",
      "list index out of range\n",
      "list index out of range\n",
      "'Comment' object has no attribute 'media'\n"
     ]
    }
   ],
   "source": [
    "result = get_spotify_user_ids('SpotifyPlaylists')"
   ]
  },
  {
   "cell_type": "code",
   "execution_count": 93,
   "metadata": {},
   "outputs": [
    {
     "name": "stdout",
     "output_type": "stream",
     "text": [
      "373\n",
      "203\n"
     ]
    }
   ],
   "source": [
    "print(len(result))\n",
    "print(len(set(result)))"
   ]
  },
  {
   "cell_type": "code",
   "execution_count": 122,
   "metadata": {},
   "outputs": [],
   "source": [
    "first_users = np.array(list(set(result)))"
   ]
  },
  {
   "cell_type": "code",
   "execution_count": 123,
   "metadata": {},
   "outputs": [],
   "source": [
    "# np.save('first_users_spotifyplaylists',first_users)"
   ]
  },
  {
   "cell_type": "code",
   "execution_count": 12,
   "metadata": {
    "scrolled": true
   },
   "outputs": [
    {
     "name": "stdout",
     "output_type": "stream",
     "text": [
      "excepted\n",
      "excepted\n",
      "excepted\n",
      "excepted\n",
      "excepted\n",
      "excepted\n",
      "excepted\n",
      "excepted\n",
      "excepted\n",
      "excepted\n",
      "excepted\n",
      "excepted\n",
      "excepted\n",
      "excepted\n",
      "excepted\n",
      "excepted\n",
      "excepted\n",
      "excepted\n",
      "excepted\n",
      "excepted\n",
      "excepted\n",
      "excepted\n",
      "excepted\n",
      "excepted\n",
      "excepted\n",
      "excepted\n",
      "excepted\n",
      "excepted\n",
      "excepted\n",
      "excepted\n",
      "excepted\n",
      "excepted\n",
      "excepted\n",
      "excepted\n",
      "excepted\n",
      "excepted\n",
      "excepted\n",
      "excepted\n",
      "excepted\n",
      "excepted\n",
      "excepted\n",
      "excepted\n",
      "excepted\n",
      "excepted\n",
      "excepted\n",
      "excepted\n",
      "excepted\n",
      "excepted\n",
      "excepted\n",
      "excepted\n",
      "excepted\n",
      "excepted\n",
      "excepted\n",
      "excepted\n",
      "excepted\n",
      "excepted\n",
      "excepted\n",
      "excepted\n",
      "excepted\n"
     ]
    }
   ],
   "source": [
    "result2 = get_spotify_user_ids('spotify')"
   ]
  },
  {
   "cell_type": "code",
   "execution_count": 13,
   "metadata": {},
   "outputs": [
    {
     "data": {
      "text/plain": [
       "106"
      ]
     },
     "execution_count": 13,
     "metadata": {},
     "output_type": "execute_result"
    }
   ],
   "source": [
    "len(result2)"
   ]
  },
  {
   "cell_type": "code",
   "execution_count": 14,
   "metadata": {},
   "outputs": [
    {
     "data": {
      "text/plain": [
       "53"
      ]
     },
     "execution_count": 14,
     "metadata": {},
     "output_type": "execute_result"
    }
   ],
   "source": [
    "len(set(result2))"
   ]
  },
  {
   "cell_type": "code",
   "execution_count": 16,
   "metadata": {},
   "outputs": [],
   "source": [
    "# set(result2)"
   ]
  },
  {
   "cell_type": "code",
   "execution_count": 17,
   "metadata": {},
   "outputs": [
    {
     "data": {
      "text/plain": [
       "['1156869894',\n",
       " 'jormaa86',\n",
       " 'frldl',\n",
       " 'listanauta',\n",
       " '21wrl565xwgqwp75r5sk6ntsi',\n",
       " '2p1bf9t77iet1qrhtmwjpx4fl',\n",
       " '1215224467',\n",
       " 'j24mfmh952op6qcgn3mojtrf6']"
      ]
     },
     "execution_count": 17,
     "metadata": {},
     "output_type": "execute_result"
    }
   ],
   "source": [
    "list(set(result).intersection(set(result2)))"
   ]
  },
  {
   "cell_type": "code",
   "execution_count": 18,
   "metadata": {},
   "outputs": [
    {
     "data": {
      "text/plain": [
       "8"
      ]
     },
     "execution_count": 18,
     "metadata": {},
     "output_type": "execute_result"
    }
   ],
   "source": [
    "len(list(set(result).intersection(set(result2))))"
   ]
  },
  {
   "cell_type": "code",
   "execution_count": 19,
   "metadata": {},
   "outputs": [],
   "source": [
    "result_tot = np.array(list(set(result + result2)))"
   ]
  },
  {
   "cell_type": "code",
   "execution_count": 20,
   "metadata": {},
   "outputs": [
    {
     "data": {
      "text/plain": [
       "(239,)"
      ]
     },
     "execution_count": 20,
     "metadata": {},
     "output_type": "execute_result"
    }
   ],
   "source": [
    "result_tot.shape"
   ]
  },
  {
   "cell_type": "code",
   "execution_count": 21,
   "metadata": {},
   "outputs": [],
   "source": [
    "np.save('users_spotifyplaylists2', result_tot)"
   ]
  },
  {
   "cell_type": "code",
   "execution_count": 22,
   "metadata": {},
   "outputs": [],
   "source": [
    "test = np.load('users_spotifyplaylists2.npy')"
   ]
  },
  {
   "cell_type": "code",
   "execution_count": 23,
   "metadata": {},
   "outputs": [],
   "source": [
    "test2 = np.load('first_users_spotifyplaylists.npy')"
   ]
  },
  {
   "cell_type": "code",
   "execution_count": 25,
   "metadata": {},
   "outputs": [
    {
     "data": {
      "text/plain": [
       "['irvine_rain',\n",
       " 'brendan.ta',\n",
       " 'mnmh960emaqo0zim0kpf2bxfb',\n",
       " '1246204860',\n",
       " '1126708296',\n",
       " '21gqo4zcpa632r5suvt4zoysi',\n",
       " 'cc2e81ud3bqm014fwdwwvr01p',\n",
       " 'jvcarone',\n",
       " 'domirillo',\n",
       " '12172782523',\n",
       " 'cosj7zcap1o7p99uvu0moic8v',\n",
       " 'g7x9bwan0vjgyo5zrgjuacrzv',\n",
       " 'corinavos',\n",
       " 'zshnz',\n",
       " 'daisydieu1224',\n",
       " 'bronwynjackson',\n",
       " 'crow74',\n",
       " 'tunenewmusic',\n",
       " 'nikemodemo',\n",
       " '125511825',\n",
       " '1215224467',\n",
       " '1257038968',\n",
       " 'kingdong9',\n",
       " '54cwoi18xxnn2wbpzcjkrcyk8',\n",
       " '11180013715',\n",
       " 'listanauta',\n",
       " '1234856699',\n",
       " 'f6yku9m67q2pb1zwf1x1ikv0q',\n",
       " '1116830746',\n",
       " '2p1bf9t77iet1qrhtmwjpx4fl',\n",
       " 'guitaromnivore',\n",
       " '0sjkz96hbb83machnebxw67ci',\n",
       " 'sidtheleftback',\n",
       " 'ganeshsingh',\n",
       " 'y8ckdoefgmeivcsw8uqq3v5nh',\n",
       " '12144424473',\n",
       " 'warddeblonde',\n",
       " 'dadacoi',\n",
       " 'myd3tod99b5991z9h6l3ort0v',\n",
       " 'emilypaup',\n",
       " '0irl84sx7u1ggogjjsqo6hh9f',\n",
       " '222vrac6c54ez4yn4mc6k3ofa',\n",
       " 'dominicwolfmusic',\n",
       " '121028447',\n",
       " 'printedinusa',\n",
       " '1214486915',\n",
       " '1225750662',\n",
       " 'therealblackkevin',\n",
       " '122599543',\n",
       " 'xovueuppsfqyqfzho85fqwhs7',\n",
       " 'mp3hugger',\n",
       " 'jabun72',\n",
       " 'havenyates',\n",
       " '22pxwkgl6u2w46sgeuyjo3f7y',\n",
       " 'darin_today',\n",
       " '12159343750',\n",
       " '7t91cj7wttcfa6s4vmhhmnigm',\n",
       " 'kurtkobelane',\n",
       " 'momoofficial1995',\n",
       " '1279593689',\n",
       " 'thebund_pablo',\n",
       " 'shawnluu',\n",
       " 'hayden.cartwright45',\n",
       " '213mnhmywl5kgdj62mstaf2wa',\n",
       " 'yrl11as7fq5yzkzrquzftkbxe',\n",
       " 'go71sqdu4tlp97bhtiu7d0prq',\n",
       " 'if_u_like_playlists',\n",
       " 'tferriday',\n",
       " 'cw26o0cja1jjps3vtc8js0bmd',\n",
       " 'pieterpeetsma',\n",
       " 'reveilles',\n",
       " 'henryprince',\n",
       " 'marina.resende02',\n",
       " 'liamcedriccalamba',\n",
       " 'gillian_delvigne',\n",
       " 'pkluong',\n",
       " 'kst83x2fg01tpf5frn6izr0ab',\n",
       " 'doleymo-gb',\n",
       " '118179227',\n",
       " 'bailey680',\n",
       " 'ajhqcllc7fohqpwa0vc7eubgz',\n",
       " 'dkore',\n",
       " 'teh_crash',\n",
       " 're2moa6b4alnbtyt1042ks32k',\n",
       " 'cool25angel',\n",
       " 'constanzaeh',\n",
       " 'jaysnbrwn',\n",
       " 'eewm2rm0xq79vd8rxs6uws8aa',\n",
       " '1233567934',\n",
       " 'willzinkann',\n",
       " '21z4u2yxqywz3liojsurgsnmq',\n",
       " '3142mwop3oevrd3xaik7mhz7oia4',\n",
       " 'e1ptxk6x0vmxilub1bhc1b50h',\n",
       " 'vickchennupati',\n",
       " '1264767314',\n",
       " 'n3za3rtz56krd18bffdwwuhqr',\n",
       " '69cozyp',\n",
       " 'pedroacbarros92',\n",
       " '1260612221',\n",
       " 'dmqodg3byv4594rgclu3wzv1t',\n",
       " 'davidcafor',\n",
       " 'ozcj0vcwzre8qgz2az9bj601r',\n",
       " '215oufawmqh4dcynilct7xxki',\n",
       " 'funkyflurry',\n",
       " 'spotify',\n",
       " 'megannnlizz',\n",
       " 'sounboination',\n",
       " '1187411126',\n",
       " 'issa461',\n",
       " '1218050784',\n",
       " '5l7f5veapgvtri4n856v3m0dg',\n",
       " 'lk10220',\n",
       " 'stoneygatesound',\n",
       " 'a4hqvjtbvp0soifdctg1zoqra',\n",
       " 'plaupez',\n",
       " 'k08j7mys6oamw4eaq8v59gaiw',\n",
       " 'matiasdp',\n",
       " 'carson.genger55',\n",
       " 'talvituuli_',\n",
       " 'asleyw27',\n",
       " '11132989567',\n",
       " '1117672565',\n",
       " 'speny7',\n",
       " '1211475227',\n",
       " 'y9tddt3sffttw75ojp903j96m',\n",
       " '12149463945',\n",
       " '31e4osylhwy76hz3jedkbsnjlz44',\n",
       " 'z73500if87uo2s5dmla6dmw80',\n",
       " 'hipsterthemister',\n",
       " 'open_heavens',\n",
       " 'eapelister',\n",
       " '3rxpr4hclpb3lvph3nvoexlyy',\n",
       " 'felixheberger',\n",
       " 'uoak',\n",
       " 'ibkhas',\n",
       " 'jeeveswilliams',\n",
       " '1236236793',\n",
       " 'jpmillermusic',\n",
       " '12145052629',\n",
       " '8o3mdwilp2ll6m5m6tes4ajro',\n",
       " 'dj_slaughterhau5',\n",
       " '1243463050',\n",
       " 'janne.kynnas',\n",
       " '12181097688',\n",
       " 'peachmoonpub',\n",
       " 'dor7u651m3ui60qcmnfbu0ch6',\n",
       " 'tq4zsuy30451qin5xqn8lh2g8',\n",
       " 'connormahone-us',\n",
       " 'adamhilditch',\n",
       " 'izzu8zy433r3k05y4a3kgtowv',\n",
       " 'enryk000',\n",
       " '3lmdcjyfcxuys41prmy8raj7v',\n",
       " '1279525315',\n",
       " '223vmnxig7x7roeureq27vdhy',\n",
       " 'isobowers162',\n",
       " '3fzdsr6n02xrgw19c3m3vnmgx',\n",
       " 'j24mfmh952op6qcgn3mojtrf6',\n",
       " 'zerochances',\n",
       " 'tdstone',\n",
       " 'fncymwuweed55jiwa6ytzu4t5',\n",
       " '1273738958',\n",
       " 'alextryon1',\n",
       " 'mclovin_music',\n",
       " 'mattbeckman1',\n",
       " '1217502107',\n",
       " '11125795241',\n",
       " '%25E2%2580%25A2hayden%257Cblake%25E2%2580%25A2',\n",
       " '21n2ku53disfrt53dgeg3vbki',\n",
       " 'jdude161717',\n",
       " '21wrl565xwgqwp75r5sk6ntsi',\n",
       " 'joyegwong',\n",
       " '1134383048',\n",
       " '128098354',\n",
       " '1143975465',\n",
       " 'odl37umark1ofsxpkk5lqn7cd',\n",
       " '22b2riu4prpktds3fmqx5esri',\n",
       " 'enilsounds',\n",
       " '9u4ofuahwy27jiuoy1bto65cr',\n",
       " '31nygqd3vevjjkkehxuha4b2j5yu',\n",
       " 'vef0enghlkvttd39ae6pepx9s',\n",
       " 'lalalauren9',\n",
       " '12154946292',\n",
       " 'v1no9xgtewfrd1h4nhribuh10',\n",
       " 'patreeeek',\n",
       " 'bballgolfer',\n",
       " 'owenssm4',\n",
       " 'silvergrym',\n",
       " 'jd-v01',\n",
       " 'silverclaw82',\n",
       " 'jamied90',\n",
       " 'h11io8qoeta4gtims2qqh85bw',\n",
       " 'amanita313',\n",
       " 'ipv2otj7xhuxwf1xl1czsun5q',\n",
       " '1233613048',\n",
       " 'alexant33',\n",
       " '11120779019']"
      ]
     },
     "execution_count": 25,
     "metadata": {},
     "output_type": "execute_result"
    }
   ],
   "source": [
    "list(set(test).intersection(set(test2)))"
   ]
  },
  {
   "cell_type": "code",
   "execution_count": 26,
   "metadata": {
    "scrolled": true
   },
   "outputs": [
    {
     "data": {
      "text/plain": [
       "{'11123450883',\n",
       " '11137903498',\n",
       " '1122115847',\n",
       " '113207606',\n",
       " '1156869894',\n",
       " '1158506159',\n",
       " '12129896211',\n",
       " '12130657967',\n",
       " '12153942848',\n",
       " '12158993820',\n",
       " '1255019854',\n",
       " '1255398835',\n",
       " '1259677891',\n",
       " '1260244542',\n",
       " '21cglrrchnswrwoowhtp3utfq',\n",
       " '31kl2kq76ypzlr3l274klabaacsq',\n",
       " '31mwngr2pzlx5xg5qfcaaxear6yu',\n",
       " '37twku81m28krjac4z9bqmqru',\n",
       " '7vr8770sh3mof7nvmk8klgvyc',\n",
       " 'anitaspecial2003',\n",
       " 'apar1cio',\n",
       " 'bongoboots',\n",
       " 'carmakazie',\n",
       " 'cristinamarie9921',\n",
       " 'djleonid1995',\n",
       " 'fortheloveofbands',\n",
       " 'fqxpaguxgk2sx5jjaxs56vlvm',\n",
       " 'frldl',\n",
       " 'genius8086',\n",
       " 'henryxoo',\n",
       " 'jbnmwdfn7922t2oyxsnha7mzx',\n",
       " 'jmgsimpson',\n",
       " 'jormaa86',\n",
       " 'jwg2695',\n",
       " 'lewisrobertson7',\n",
       " 'lovestylerecords',\n",
       " 'm%25C3%25B8rp',\n",
       " 'oskeve7zu7hlv391jchdkl9st',\n",
       " 'qq2pkbji8uxaxpz3mrcebfosa',\n",
       " 'sageguitar70',\n",
       " 't9ztgkqyps8gftewz0drn5fvw',\n",
       " 'uikx6xbh43dnm8cyztyfccnxw',\n",
       " 'ztinaldoz'}"
      ]
     },
     "execution_count": 26,
     "metadata": {},
     "output_type": "execute_result"
    }
   ],
   "source": [
    "set(test) - set(test2)"
   ]
  },
  {
   "cell_type": "code",
   "execution_count": 29,
   "metadata": {},
   "outputs": [],
   "source": [
    "pd.DataFrame(result_tot).to_json('how_big.json')"
   ]
  },
  {
   "cell_type": "code",
   "execution_count": 32,
   "metadata": {},
   "outputs": [],
   "source": [
    "np.save('how_big.npy', result_tot)"
   ]
  },
  {
   "cell_type": "code",
   "execution_count": 38,
   "metadata": {},
   "outputs": [],
   "source": [
    "pd.DataFrame(list(set(test)|set(test2))).to_json('user_ids_fri.json')"
   ]
  },
  {
   "cell_type": "code",
   "execution_count": 39,
   "metadata": {},
   "outputs": [
    {
     "data": {
      "text/plain": [
       "['brendan.ta',\n",
       " 'kimjoh88',\n",
       " 'peeky93',\n",
       " '11127644737',\n",
       " 'cc2e81ud3bqm014fwdwwvr01p',\n",
       " 'jvcarone',\n",
       " '1255019854',\n",
       " 'cosj7zcap1o7p99uvu0moic8v',\n",
       " 'daisydieu1224',\n",
       " 'bronwynjackson',\n",
       " 'crow74',\n",
       " 'nikemodemo',\n",
       " 'kingdong9',\n",
       " 'nikolaid82',\n",
       " 'dylan.kelly02',\n",
       " 'listanauta',\n",
       " '1234856699',\n",
       " 'f6yku9m67q2pb1zwf1x1ikv0q',\n",
       " 'fqxpaguxgk2sx5jjaxs56vlvm',\n",
       " 'marioishere78',\n",
       " 'sidtheleftback',\n",
       " 'r6q0tjjylq3c6ceo9wot8zz8g',\n",
       " 'ganeshsingh',\n",
       " 'y8ckdoefgmeivcsw8uqq3v5nh',\n",
       " '12144424473',\n",
       " 'dadacoi',\n",
       " 'myd3tod99b5991z9h6l3ort0v',\n",
       " '222vrac6c54ez4yn4mc6k3ofa',\n",
       " 'dominicwolfmusic',\n",
       " '121028447',\n",
       " 'madkitsune',\n",
       " 'printedinusa',\n",
       " 'darthmaul1214',\n",
       " '1225750662',\n",
       " 'xovueuppsfqyqfzho85fqwhs7',\n",
       " 'therealblackkevin',\n",
       " '22pxwkgl6u2w46sgeuyjo3f7y',\n",
       " 'darin_today',\n",
       " 'jabun72',\n",
       " 'mp3hugger',\n",
       " '1231174271',\n",
       " '12159343750',\n",
       " 'jmgsimpson',\n",
       " 'kurtkobelane',\n",
       " '1279593689',\n",
       " 'thebund_pablo',\n",
       " 'yrl11as7fq5yzkzrquzftkbxe',\n",
       " 'go71sqdu4tlp97bhtiu7d0prq',\n",
       " '6c6917l0qudz1b1xcg37kvxuf',\n",
       " 'pieterpeetsma',\n",
       " 'zbene',\n",
       " 'reveilles',\n",
       " 'henryprince',\n",
       " 'lovestylerecords',\n",
       " '11100862639',\n",
       " 'pkluong',\n",
       " 'kst83x2fg01tpf5frn6izr0ab',\n",
       " '1135022882',\n",
       " '1260244542',\n",
       " 'doleymo-gb',\n",
       " 're2moa6b4alnbtyt1042ks32k',\n",
       " 'teh_crash',\n",
       " 'cool25angel',\n",
       " 'jaysnbrwn',\n",
       " 'willzinkann',\n",
       " '3142mwop3oevrd3xaik7mhz7oia4',\n",
       " 'genius8086',\n",
       " 'e1ptxk6x0vmxilub1bhc1b50h',\n",
       " 'chasemillertime',\n",
       " '83vwkvb6l83s1exev977gilgr',\n",
       " '1239204915',\n",
       " '69cozyp',\n",
       " 'davidcafor',\n",
       " '215oufawmqh4dcynilct7xxki',\n",
       " 'funkyflurry',\n",
       " 'spotify',\n",
       " 'megannnlizz',\n",
       " 'sidewalkmike',\n",
       " '1218050784',\n",
       " 'stoneygatesound',\n",
       " 'a4hqvjtbvp0soifdctg1zoqra',\n",
       " 'matiasdp',\n",
       " 'carson.genger55',\n",
       " 'asleyw27',\n",
       " '11132989567',\n",
       " '12179878390',\n",
       " 'y9tddt3sffttw75ojp903j96m',\n",
       " '1156869894',\n",
       " '12149463945',\n",
       " '31e4osylhwy76hz3jedkbsnjlz44',\n",
       " 'z73500if87uo2s5dmla6dmw80',\n",
       " 'eapelister',\n",
       " 'uoak',\n",
       " 'felixheberger',\n",
       " 'ibkhas',\n",
       " 'jeeveswilliams',\n",
       " 'jpmillermusic',\n",
       " '9nc3mlqc24u28i6zuhuj6dufb',\n",
       " '12145052629',\n",
       " 'djleonid1995',\n",
       " '1243463050',\n",
       " 'janne.kynnas',\n",
       " 'oldtowneast',\n",
       " 'technozem',\n",
       " 'u0pic7waej6uozokeqrizy9mc',\n",
       " 'connormahone-us',\n",
       " 'sageguitar70',\n",
       " 'webbstur',\n",
       " 'izzu8zy433r3k05y4a3kgtowv',\n",
       " 'enryk000',\n",
       " 'fortheloveofbands',\n",
       " '11137903498',\n",
       " '1279525315',\n",
       " 'isobowers162',\n",
       " '3fzdsr6n02xrgw19c3m3vnmgx',\n",
       " 'j24mfmh952op6qcgn3mojtrf6',\n",
       " 'zerochances',\n",
       " 'tdstone',\n",
       " '1273738958',\n",
       " 'mclovin_music',\n",
       " 'mattbeckman1',\n",
       " 'jdude161717',\n",
       " '21wrl565xwgqwp75r5sk6ntsi',\n",
       " 'joyegwong',\n",
       " '1134383048',\n",
       " '1255398835',\n",
       " 'odl37umark1ofsxpkk5lqn7cd',\n",
       " '12158993820',\n",
       " '12183617979',\n",
       " '9u4ofuahwy27jiuoy1bto65cr',\n",
       " 'theadamjanes',\n",
       " 'jg86',\n",
       " '12153942848',\n",
       " '12102288431',\n",
       " '12154946292',\n",
       " 'patreeeek',\n",
       " 'bballgolfer',\n",
       " 'laurenmar1e',\n",
       " 'owenssm4',\n",
       " '21ybmcd73ciwsrb42v53cnhga',\n",
       " 'grotewohl-89',\n",
       " 'jd-v01',\n",
       " 'rosenow3624',\n",
       " 'uikx6xbh43dnm8cyztyfccnxw',\n",
       " 'jamied90',\n",
       " 'h11io8qoeta4gtims2qqh85bw',\n",
       " 'amanita313',\n",
       " '113207606',\n",
       " '1233613048',\n",
       " '7a5qo1dmbkk1pte3mszyoq4sv',\n",
       " '11120779019',\n",
       " '37twku81m28krjac4z9bqmqru',\n",
       " 'irvine_rain',\n",
       " 'mnmh960emaqo0zim0kpf2bxfb',\n",
       " '1246204860',\n",
       " '1126708296',\n",
       " '21gqo4zcpa632r5suvt4zoysi',\n",
       " 'bongoboots',\n",
       " 'ztinaldoz',\n",
       " '12172782523',\n",
       " 'domirillo',\n",
       " 'g7x9bwan0vjgyo5zrgjuacrzv',\n",
       " 'corinavos',\n",
       " 'zshnz',\n",
       " '3qlfkdwslxodti7oe8622h0m8',\n",
       " 'tunenewmusic',\n",
       " 'skorne13',\n",
       " '125511825',\n",
       " '1215224467',\n",
       " '1257038968',\n",
       " 'jwg2695',\n",
       " '54cwoi18xxnn2wbpzcjkrcyk8',\n",
       " 'j3cje8rw8f7m5dhwvg4mln3z1',\n",
       " '11180013715',\n",
       " 'frldl',\n",
       " '1116830746',\n",
       " '2p1bf9t77iet1qrhtmwjpx4fl',\n",
       " 'guitaromnivore',\n",
       " '0sjkz96hbb83machnebxw67ci',\n",
       " 't9ztgkqyps8gftewz0drn5fvw',\n",
       " 'warddeblonde',\n",
       " 'emilypaup',\n",
       " 'astronautnorway',\n",
       " '0irl84sx7u1ggogjjsqo6hh9f',\n",
       " 'm%25C3%25B8rp',\n",
       " 'lewisrobertson7',\n",
       " '1214486915',\n",
       " '122599543',\n",
       " 'havenyates',\n",
       " 'jrvfln4tdrj21d236bb0cpgsr',\n",
       " '7vr8770sh3mof7nvmk8klgvyc',\n",
       " '7t91cj7wttcfa6s4vmhhmnigm',\n",
       " 'hilltopchill',\n",
       " 'odrey918',\n",
       " 'carmakazie',\n",
       " 'momoofficial1995',\n",
       " 'oskeve7zu7hlv391jchdkl9st',\n",
       " 'shawnluu',\n",
       " 'hayden.cartwright45',\n",
       " '213mnhmywl5kgdj62mstaf2wa',\n",
       " 'if_u_like_playlists',\n",
       " 'tferriday',\n",
       " 'cw26o0cja1jjps3vtc8js0bmd',\n",
       " 'wintervestermc',\n",
       " 'marina.resende02',\n",
       " 'liamcedriccalamba',\n",
       " 'gillian_delvigne',\n",
       " '1112804803',\n",
       " 'bailey680',\n",
       " '118179227',\n",
       " 'tmacgordon5',\n",
       " 'ajhqcllc7fohqpwa0vc7eubgz',\n",
       " 'dkore',\n",
       " 'constanzaeh',\n",
       " 'eewm2rm0xq79vd8rxs6uws8aa',\n",
       " 'lg7gkjmevh6brhby94ofq7a4m',\n",
       " 'pfafulous',\n",
       " '9mys2mq0uyiqmce2ufesmvi5n',\n",
       " '1233567934',\n",
       " '1259677891',\n",
       " 'cannondale12',\n",
       " '21z4u2yxqywz3liojsurgsnmq',\n",
       " 'lefuturewave',\n",
       " 'vickchennupati',\n",
       " 'epm-music',\n",
       " '1264767314',\n",
       " '9vul14k',\n",
       " 'jbnmwdfn7922t2oyxsnha7mzx',\n",
       " 'n3za3rtz56krd18bffdwwuhqr',\n",
       " 'celesteee97',\n",
       " 'ar4e0yqkqlci359jrc4yp0g5a',\n",
       " 'pedroacbarros92',\n",
       " '1260612221',\n",
       " 'nqfz40tljttqsfao7gv9ui8zv',\n",
       " 'dmqodg3byv4594rgclu3wzv1t',\n",
       " 'ozcj0vcwzre8qgz2az9bj601r',\n",
       " 'lv8xnc515l015ogu4yc0z4rtg',\n",
       " '31hor5xro4x6bezly26jstihldfu',\n",
       " 'sounboination',\n",
       " '1187411126',\n",
       " 'issa461',\n",
       " 'qq2pkbji8uxaxpz3mrcebfosa',\n",
       " 'ok_fucku',\n",
       " '5l7f5veapgvtri4n856v3m0dg',\n",
       " 'lk10220',\n",
       " 'plaupez',\n",
       " 'k08j7mys6oamw4eaq8v59gaiw',\n",
       " 'talvituuli_',\n",
       " '1117672565',\n",
       " 'speny7',\n",
       " '1211475227',\n",
       " '12129896211',\n",
       " 'jormaa86',\n",
       " 'hipsterthemister',\n",
       " 'open_heavens',\n",
       " '3rxpr4hclpb3lvph3nvoexlyy',\n",
       " '21tqqng7wmhpenjmshse67lda',\n",
       " '1236236793',\n",
       " 'apar1cio',\n",
       " '8o3mdwilp2ll6m5m6tes4ajro',\n",
       " '1122115847',\n",
       " 'dj_slaughterhau5',\n",
       " '31mwngr2pzlx5xg5qfcaaxear6yu',\n",
       " '12181097688',\n",
       " 'peachmoonpub',\n",
       " 'dor7u651m3ui60qcmnfbu0ch6',\n",
       " 'tq4zsuy30451qin5xqn8lh2g8',\n",
       " 'henryxoo',\n",
       " 'adamhilditch',\n",
       " '11123450883',\n",
       " '12130657967',\n",
       " 'cristinamarie9921',\n",
       " '3lmdcjyfcxuys41prmy8raj7v',\n",
       " '223vmnxig7x7roeureq27vdhy',\n",
       " '31kl2kq76ypzlr3l274klabaacsq',\n",
       " 'liviubot',\n",
       " 'fncymwuweed55jiwa6ytzu4t5',\n",
       " '31czfyz4fijbuijympf7edjrc7by',\n",
       " 'alextryon1',\n",
       " '1217502107',\n",
       " '12121871804',\n",
       " '11125795241',\n",
       " '%25E2%2580%25A2hayden%257Cblake%25E2%2580%25A2',\n",
       " '21n2ku53disfrt53dgeg3vbki',\n",
       " '22b2riu4prpktds3fmqx5esri',\n",
       " '128098354',\n",
       " '1143975465',\n",
       " '1158506159',\n",
       " 'enilsounds',\n",
       " 'anitaspecial2003',\n",
       " 'czechfencer',\n",
       " '31nygqd3vevjjkkehxuha4b2j5yu',\n",
       " 'muktadirabdul12345',\n",
       " 'vef0enghlkvttd39ae6pepx9s',\n",
       " 'lalalauren9',\n",
       " 'v1no9xgtewfrd1h4nhribuh10',\n",
       " '21cglrrchnswrwoowhtp3utfq',\n",
       " 'silvergrym',\n",
       " 'haschurig',\n",
       " '212tnazcrrn7pprlaztfbdfzq',\n",
       " 'silverclaw82',\n",
       " '1236033088',\n",
       " 'ipv2otj7xhuxwf1xl1czsun5q',\n",
       " 'kelli_su',\n",
       " 'alexant33']"
      ]
     },
     "execution_count": 39,
     "metadata": {},
     "output_type": "execute_result"
    }
   ],
   "source": [
    "list(set(test)|set(test2))"
   ]
  },
  {
   "cell_type": "code",
   "execution_count": null,
   "metadata": {},
   "outputs": [],
   "source": []
  }
 ],
 "metadata": {
  "kernelspec": {
   "display_name": "base",
   "language": "python",
   "name": "base"
  },
  "language_info": {
   "codemirror_mode": {
    "name": "ipython",
    "version": 3
   },
   "file_extension": ".py",
   "mimetype": "text/x-python",
   "name": "python",
   "nbconvert_exporter": "python",
   "pygments_lexer": "ipython3",
   "version": "3.7.1"
  },
  "varInspector": {
   "cols": {
    "lenName": 16,
    "lenType": 16,
    "lenVar": 40
   },
   "kernels_config": {
    "python": {
     "delete_cmd_postfix": "",
     "delete_cmd_prefix": "del ",
     "library": "var_list.py",
     "varRefreshCmd": "print(var_dic_list())"
    },
    "r": {
     "delete_cmd_postfix": ") ",
     "delete_cmd_prefix": "rm(",
     "library": "var_list.r",
     "varRefreshCmd": "cat(var_dic_list()) "
    }
   },
   "types_to_exclude": [
    "module",
    "function",
    "builtin_function_or_method",
    "instance",
    "_Feature"
   ],
   "window_display": false
  }
 },
 "nbformat": 4,
 "nbformat_minor": 2
}
