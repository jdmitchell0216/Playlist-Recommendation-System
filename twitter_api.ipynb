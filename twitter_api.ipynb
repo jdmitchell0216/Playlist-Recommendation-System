{
 "cells": [
  {
   "cell_type": "code",
   "execution_count": 1,
   "metadata": {},
   "outputs": [],
   "source": [
    "%load_ext dotenv\n",
    "%dotenv"
   ]
  },
  {
   "cell_type": "code",
   "execution_count": 29,
   "metadata": {},
   "outputs": [],
   "source": [
    "import tweepy\n",
    "import os\n",
    "import csv\n",
    "import pandas as pd"
   ]
  },
  {
   "cell_type": "code",
   "execution_count": 30,
   "metadata": {},
   "outputs": [],
   "source": [
    "CONSUMER_KEY = os.environ.get('TWITTER_KEY')\n",
    "CONSUMER_SECRET = os.environ.get('TWITTER_SECRET')\n",
    "ACCESS_TOKEN = os.environ.get('TWITTER_ACCESS_TOKEN')\n",
    "ACCESS_TOKEN_SECRET = os.environ.get('TWITTER_ACCESS_TOKEN_SECRET')\n",
    "\n",
    "auth = tweepy.OAuthHandler(CONSUMER_KEY, CONSUMER_SECRET)\n",
    "auth.set_access_token(ACCESS_TOKEN, ACCESS_TOKEN_SECRET)\n",
    "api = tweepy.API(auth,wait_on_rate_limit=True)"
   ]
  },
  {
   "cell_type": "code",
   "execution_count": 71,
   "metadata": {},
   "outputs": [],
   "source": [
    "def search_twitter(search_term, since_date, filename, save=False, filter_retweets = True):\n",
    "    # Open/Create a file to append data\n",
    "    if save==True:\n",
    "        csvFile = open(filename, 'a')\n",
    "        #Use csv Writer\n",
    "        csvWriter = csv.writer(csvFile)\n",
    "    if filter_retweets == True:\n",
    "        query=f\"{search_term} -filter:retweets\"\n",
    "    else:\n",
    "        query = f\"{search_term}\"\n",
    "    for tweet in tweepy.Cursor(api.search,q=query, \n",
    "                               tweet_mode='extended',\n",
    "                               count=100,\n",
    "                               lang=\"en\",\n",
    "                               since=str(since_date)).items():\n",
    "        print(tweet.user.screen_name)\n",
    "        print(tweet.created_at, tweet.full_text)\n",
    "        print(\"---------------------------------------------------------------------------------------------------------\")\n",
    "        if save==True:\n",
    "            csvWriter.writerow([tweet.created_at, tweet.full_text.encode('utf-8')])"
   ]
  },
  {
   "cell_type": "code",
   "execution_count": 72,
   "metadata": {
    "scrolled": false
   },
   "outputs": [
    {
     "name": "stdout",
     "output_type": "stream",
     "text": [
      "TheAltRootMag\n",
      "2019-09-18 18:51:38 Alt Root weekly Top 10 (09/18/19) feats. new music from #DarrinBradbury feat #MargoPrice, #NorthMississippiAllstars feat #JasonIsbell and #DuaneBetts, and 8 more. The weekly Top 10 streams on our website and as Spotify playlist:\n",
      "https://t.co/qrQxB8eiew\n",
      "https://t.co/085cXHHrUW\n",
      "---------------------------------------------------------------------------------------------------------\n",
      "thisaxeisheavy\n",
      "2019-09-18 16:01:55 Daily Tonality 09/18/19 - Notorious BIG \"Mo Money, Mon Problems\" from Life After Death #music #song #biggiesmalls #notorious #hiphop #rap #mc #ma$e #musicislife #listentothis\n",
      "https://t.co/taRiVVr7Ke\n",
      "Song of the day is determined by my #Spotify \"Liked Songs\" playlist on random.\n",
      "---------------------------------------------------------------------------------------------------------\n",
      "VibesPatron\n",
      "2019-09-13 16:00:24 Elite Albums 18/19 https://t.co/374KWFzVFE #NowPlaying\n",
      "---------------------------------------------------------------------------------------------------------\n"
     ]
    }
   ],
   "source": [
    "search_twitter('spotify playlist', '7/18/19', 'twitter_test')"
   ]
  },
  {
   "cell_type": "code",
   "execution_count": null,
   "metadata": {},
   "outputs": [],
   "source": []
  },
  {
   "cell_type": "code",
   "execution_count": null,
   "metadata": {},
   "outputs": [],
   "source": []
  }
 ],
 "metadata": {
  "kernelspec": {
   "display_name": "base",
   "language": "python",
   "name": "base"
  },
  "language_info": {
   "codemirror_mode": {
    "name": "ipython",
    "version": 3
   },
   "file_extension": ".py",
   "mimetype": "text/x-python",
   "name": "python",
   "nbconvert_exporter": "python",
   "pygments_lexer": "ipython3",
   "version": "3.7.1"
  },
  "varInspector": {
   "cols": {
    "lenName": 16,
    "lenType": 16,
    "lenVar": 40
   },
   "kernels_config": {
    "python": {
     "delete_cmd_postfix": "",
     "delete_cmd_prefix": "del ",
     "library": "var_list.py",
     "varRefreshCmd": "print(var_dic_list())"
    },
    "r": {
     "delete_cmd_postfix": ") ",
     "delete_cmd_prefix": "rm(",
     "library": "var_list.r",
     "varRefreshCmd": "cat(var_dic_list()) "
    }
   },
   "types_to_exclude": [
    "module",
    "function",
    "builtin_function_or_method",
    "instance",
    "_Feature"
   ],
   "window_display": false
  }
 },
 "nbformat": 4,
 "nbformat_minor": 2
}
