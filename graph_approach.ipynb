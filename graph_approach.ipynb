{
 "cells": [
  {
   "cell_type": "code",
   "execution_count": 1,
   "metadata": {},
   "outputs": [],
   "source": [
    "import pandas as pd\n",
    "import py2neo"
   ]
  },
  {
   "cell_type": "code",
   "execution_count": 2,
   "metadata": {},
   "outputs": [],
   "source": [
    "df = pd.read_json('track_data_9_18_19.json')"
   ]
  },
  {
   "cell_type": "code",
   "execution_count": 3,
   "metadata": {},
   "outputs": [
    {
     "data": {
      "text/html": [
       "<div>\n",
       "<style scoped>\n",
       "    .dataframe tbody tr th:only-of-type {\n",
       "        vertical-align: middle;\n",
       "    }\n",
       "\n",
       "    .dataframe tbody tr th {\n",
       "        vertical-align: top;\n",
       "    }\n",
       "\n",
       "    .dataframe thead th {\n",
       "        text-align: right;\n",
       "    }\n",
       "</style>\n",
       "<table border=\"1\" class=\"dataframe\">\n",
       "  <thead>\n",
       "    <tr style=\"text-align: right;\">\n",
       "      <th></th>\n",
       "      <th>added_by_id</th>\n",
       "      <th>album_id</th>\n",
       "      <th>album_name</th>\n",
       "      <th>artist_ids</th>\n",
       "      <th>artist_names</th>\n",
       "      <th>date_added</th>\n",
       "      <th>playlist_id</th>\n",
       "      <th>track_id</th>\n",
       "      <th>track_name</th>\n",
       "      <th>user_id</th>\n",
       "      <th>rating</th>\n",
       "      <th>artists_join</th>\n",
       "      <th>artist_and_track</th>\n",
       "    </tr>\n",
       "  </thead>\n",
       "  <tbody>\n",
       "    <tr>\n",
       "      <th>0</th>\n",
       "      <td>technozem</td>\n",
       "      <td>0d0ONE5rak6Q91XjwKcJvN</td>\n",
       "      <td>Vurstep</td>\n",
       "      <td>[7ugvHO0W3IoAWzOgKrHxqr, 0K1lHu1BP65Z1DErnljxUw]</td>\n",
       "      <td>[Appleblim, Forest Drive West]</td>\n",
       "      <td>2018-12-04T21:27:55Z</td>\n",
       "      <td>5tW6vGqn4Z2oPxpgQSncKD</td>\n",
       "      <td>5huzNc7H2kv2qNq7kqscHY</td>\n",
       "      <td>Vurstep - Forest Drive West Remix</td>\n",
       "      <td>technozem</td>\n",
       "      <td>1</td>\n",
       "      <td>Appleblim___Forest Drive West</td>\n",
       "      <td>Appleblim___Forest Drive West|||||Vurstep - Fo...</td>\n",
       "    </tr>\n",
       "    <tr>\n",
       "      <th>1</th>\n",
       "      <td>technozem</td>\n",
       "      <td>2qz8u01gOb8Lb7KaTR90DQ</td>\n",
       "      <td>Marble</td>\n",
       "      <td>[7asRTH6SKIMKZZ59Iw2eA5, 2iWOFT9U8InefnarwZUmv0]</td>\n",
       "      <td>[Gnork, Douala]</td>\n",
       "      <td>2018-12-12T21:33:25Z</td>\n",
       "      <td>5tW6vGqn4Z2oPxpgQSncKD</td>\n",
       "      <td>7Hhfn4AkePvX0jW4jOJPQ3</td>\n",
       "      <td>Space Jam (feat. Douala)</td>\n",
       "      <td>technozem</td>\n",
       "      <td>1</td>\n",
       "      <td>Gnork___Douala</td>\n",
       "      <td>Gnork___Douala|||||Space Jam (feat. Douala)</td>\n",
       "    </tr>\n",
       "    <tr>\n",
       "      <th>10</th>\n",
       "      <td>technozem</td>\n",
       "      <td>4JooAi5hHhUuJNrbiseE8X</td>\n",
       "      <td>At the Controls</td>\n",
       "      <td>[68Wb5Pcy71lLaKdIB6cBA5]</td>\n",
       "      <td>[Breakage]</td>\n",
       "      <td>2018-12-11T20:02:07Z</td>\n",
       "      <td>5tW6vGqn4Z2oPxpgQSncKD</td>\n",
       "      <td>5NLRRESuSXLQTPgdqAECCq</td>\n",
       "      <td>Rudeboy Stuff</td>\n",
       "      <td>technozem</td>\n",
       "      <td>1</td>\n",
       "      <td>Breakage</td>\n",
       "      <td>Breakage|||||Rudeboy Stuff</td>\n",
       "    </tr>\n",
       "    <tr>\n",
       "      <th>100</th>\n",
       "      <td>technozem</td>\n",
       "      <td>6fXNAGf1ihG0B0Sck2Mo1l</td>\n",
       "      <td>Metropolis</td>\n",
       "      <td>[0Ij7th9uWcDVYNAIOn5W22]</td>\n",
       "      <td>[Kornél Kovács]</td>\n",
       "      <td>2018-12-29T17:28:10Z</td>\n",
       "      <td>5tW6vGqn4Z2oPxpgQSncKD</td>\n",
       "      <td>0ajH7MyTiRhjUbZVYVgRPc</td>\n",
       "      <td>Panda</td>\n",
       "      <td>technozem</td>\n",
       "      <td>1</td>\n",
       "      <td>Kornél Kovács</td>\n",
       "      <td>Kornél Kovács|||||Panda</td>\n",
       "    </tr>\n",
       "    <tr>\n",
       "      <th>1000</th>\n",
       "      <td>technozem</td>\n",
       "      <td>3YQASaeJPm3OxUSCP6Qfo9</td>\n",
       "      <td>GROEF - Des avonds in klein maneschijn</td>\n",
       "      <td>[7DksXfhuJLdqtyHnoKCJLI]</td>\n",
       "      <td>[GROEF]</td>\n",
       "      <td>2011-04-15T16:06:11Z</td>\n",
       "      <td>4AehzXKZqJ5VrqPHpsmN6E</td>\n",
       "      <td>6sihMoVzSFhHtr2p556f5Z</td>\n",
       "      <td>Jan mijne man/Andro/Andro GROEF</td>\n",
       "      <td>technozem</td>\n",
       "      <td>1</td>\n",
       "      <td>GROEF</td>\n",
       "      <td>GROEF|||||Jan mijne man/Andro/Andro GROEF</td>\n",
       "    </tr>\n",
       "  </tbody>\n",
       "</table>\n",
       "</div>"
      ],
      "text/plain": [
       "     added_by_id                album_id  \\\n",
       "0      technozem  0d0ONE5rak6Q91XjwKcJvN   \n",
       "1      technozem  2qz8u01gOb8Lb7KaTR90DQ   \n",
       "10     technozem  4JooAi5hHhUuJNrbiseE8X   \n",
       "100    technozem  6fXNAGf1ihG0B0Sck2Mo1l   \n",
       "1000   technozem  3YQASaeJPm3OxUSCP6Qfo9   \n",
       "\n",
       "                                  album_name  \\\n",
       "0                                    Vurstep   \n",
       "1                                     Marble   \n",
       "10                           At the Controls   \n",
       "100                               Metropolis   \n",
       "1000  GROEF - Des avonds in klein maneschijn   \n",
       "\n",
       "                                            artist_ids  \\\n",
       "0     [7ugvHO0W3IoAWzOgKrHxqr, 0K1lHu1BP65Z1DErnljxUw]   \n",
       "1     [7asRTH6SKIMKZZ59Iw2eA5, 2iWOFT9U8InefnarwZUmv0]   \n",
       "10                            [68Wb5Pcy71lLaKdIB6cBA5]   \n",
       "100                           [0Ij7th9uWcDVYNAIOn5W22]   \n",
       "1000                          [7DksXfhuJLdqtyHnoKCJLI]   \n",
       "\n",
       "                        artist_names            date_added  \\\n",
       "0     [Appleblim, Forest Drive West]  2018-12-04T21:27:55Z   \n",
       "1                    [Gnork, Douala]  2018-12-12T21:33:25Z   \n",
       "10                        [Breakage]  2018-12-11T20:02:07Z   \n",
       "100                  [Kornél Kovács]  2018-12-29T17:28:10Z   \n",
       "1000                         [GROEF]  2011-04-15T16:06:11Z   \n",
       "\n",
       "                 playlist_id                track_id  \\\n",
       "0     5tW6vGqn4Z2oPxpgQSncKD  5huzNc7H2kv2qNq7kqscHY   \n",
       "1     5tW6vGqn4Z2oPxpgQSncKD  7Hhfn4AkePvX0jW4jOJPQ3   \n",
       "10    5tW6vGqn4Z2oPxpgQSncKD  5NLRRESuSXLQTPgdqAECCq   \n",
       "100   5tW6vGqn4Z2oPxpgQSncKD  0ajH7MyTiRhjUbZVYVgRPc   \n",
       "1000  4AehzXKZqJ5VrqPHpsmN6E  6sihMoVzSFhHtr2p556f5Z   \n",
       "\n",
       "                             track_name    user_id  rating  \\\n",
       "0     Vurstep - Forest Drive West Remix  technozem       1   \n",
       "1              Space Jam (feat. Douala)  technozem       1   \n",
       "10                        Rudeboy Stuff  technozem       1   \n",
       "100                               Panda  technozem       1   \n",
       "1000    Jan mijne man/Andro/Andro GROEF  technozem       1   \n",
       "\n",
       "                       artists_join  \\\n",
       "0     Appleblim___Forest Drive West   \n",
       "1                    Gnork___Douala   \n",
       "10                         Breakage   \n",
       "100                   Kornél Kovács   \n",
       "1000                          GROEF   \n",
       "\n",
       "                                       artist_and_track  \n",
       "0     Appleblim___Forest Drive West|||||Vurstep - Fo...  \n",
       "1           Gnork___Douala|||||Space Jam (feat. Douala)  \n",
       "10                           Breakage|||||Rudeboy Stuff  \n",
       "100                             Kornél Kovács|||||Panda  \n",
       "1000          GROEF|||||Jan mijne man/Andro/Andro GROEF  "
      ]
     },
     "execution_count": 3,
     "metadata": {},
     "output_type": "execute_result"
    }
   ],
   "source": [
    "df.head()"
   ]
  },
  {
   "cell_type": "code",
   "execution_count": 35,
   "metadata": {},
   "outputs": [],
   "source": [
    "df_added_by = df[['added_by_id']]"
   ]
  },
  {
   "cell_type": "code",
   "execution_count": 36,
   "metadata": {},
   "outputs": [],
   "source": [
    "df_added_by = pd.DataFrame(df_added_by['added_by_id'].unique())"
   ]
  },
  {
   "cell_type": "code",
   "execution_count": 37,
   "metadata": {},
   "outputs": [],
   "source": [
    "df_added_by.columns = ['added_by:ID']"
   ]
  },
  {
   "cell_type": "code",
   "execution_count": 38,
   "metadata": {},
   "outputs": [
    {
     "data": {
      "text/html": [
       "<div>\n",
       "<style scoped>\n",
       "    .dataframe tbody tr th:only-of-type {\n",
       "        vertical-align: middle;\n",
       "    }\n",
       "\n",
       "    .dataframe tbody tr th {\n",
       "        vertical-align: top;\n",
       "    }\n",
       "\n",
       "    .dataframe thead th {\n",
       "        text-align: right;\n",
       "    }\n",
       "</style>\n",
       "<table border=\"1\" class=\"dataframe\">\n",
       "  <thead>\n",
       "    <tr style=\"text-align: right;\">\n",
       "      <th></th>\n",
       "      <th>added_by:ID</th>\n",
       "    </tr>\n",
       "  </thead>\n",
       "  <tbody>\n",
       "    <tr>\n",
       "      <th>0</th>\n",
       "      <td>technozem</td>\n",
       "    </tr>\n",
       "    <tr>\n",
       "      <th>1</th>\n",
       "      <td>hipsterthemister</td>\n",
       "    </tr>\n",
       "    <tr>\n",
       "      <th>2</th>\n",
       "      <td>nqfz40tljttqsfao7gv9ui8zv</td>\n",
       "    </tr>\n",
       "    <tr>\n",
       "      <th>3</th>\n",
       "      <td>frazze</td>\n",
       "    </tr>\n",
       "    <tr>\n",
       "      <th>4</th>\n",
       "      <td>issa461</td>\n",
       "    </tr>\n",
       "  </tbody>\n",
       "</table>\n",
       "</div>"
      ],
      "text/plain": [
       "                 added_by:ID\n",
       "0                  technozem\n",
       "1           hipsterthemister\n",
       "2  nqfz40tljttqsfao7gv9ui8zv\n",
       "3                     frazze\n",
       "4                    issa461"
      ]
     },
     "execution_count": 38,
     "metadata": {},
     "output_type": "execute_result"
    }
   ],
   "source": [
    "df_added_by.head()"
   ]
  },
  {
   "cell_type": "code",
   "execution_count": 40,
   "metadata": {},
   "outputs": [],
   "source": [
    "df_added_by.to_csv('graph_added_by.csv')"
   ]
  },
  {
   "cell_type": "code",
   "execution_count": 41,
   "metadata": {},
   "outputs": [],
   "source": [
    "df_playlist_id = df[['playlist_id']]"
   ]
  },
  {
   "cell_type": "code",
   "execution_count": 43,
   "metadata": {},
   "outputs": [],
   "source": [
    "df_playlist_id = pd.DataFrame(df_playlist_id['playlist_id'].unique())"
   ]
  },
  {
   "cell_type": "code",
   "execution_count": 44,
   "metadata": {},
   "outputs": [],
   "source": [
    "df_playlist_id.columns = ['playlist_id:ID']"
   ]
  },
  {
   "cell_type": "code",
   "execution_count": 45,
   "metadata": {},
   "outputs": [
    {
     "data": {
      "text/html": [
       "<div>\n",
       "<style scoped>\n",
       "    .dataframe tbody tr th:only-of-type {\n",
       "        vertical-align: middle;\n",
       "    }\n",
       "\n",
       "    .dataframe tbody tr th {\n",
       "        vertical-align: top;\n",
       "    }\n",
       "\n",
       "    .dataframe thead th {\n",
       "        text-align: right;\n",
       "    }\n",
       "</style>\n",
       "<table border=\"1\" class=\"dataframe\">\n",
       "  <thead>\n",
       "    <tr style=\"text-align: right;\">\n",
       "      <th></th>\n",
       "      <th>playlist_id:ID</th>\n",
       "    </tr>\n",
       "  </thead>\n",
       "  <tbody>\n",
       "    <tr>\n",
       "      <th>0</th>\n",
       "      <td>5tW6vGqn4Z2oPxpgQSncKD</td>\n",
       "    </tr>\n",
       "    <tr>\n",
       "      <th>1</th>\n",
       "      <td>4AehzXKZqJ5VrqPHpsmN6E</td>\n",
       "    </tr>\n",
       "    <tr>\n",
       "      <th>2</th>\n",
       "      <td>73LrKm6KryzVw7MYW65Fs7</td>\n",
       "    </tr>\n",
       "    <tr>\n",
       "      <th>3</th>\n",
       "      <td>1y7pyRgtnfHYnKsslRLeKd</td>\n",
       "    </tr>\n",
       "    <tr>\n",
       "      <th>4</th>\n",
       "      <td>4W6ci4nxq4vxYL9iCCtXFs</td>\n",
       "    </tr>\n",
       "  </tbody>\n",
       "</table>\n",
       "</div>"
      ],
      "text/plain": [
       "           playlist_id:ID\n",
       "0  5tW6vGqn4Z2oPxpgQSncKD\n",
       "1  4AehzXKZqJ5VrqPHpsmN6E\n",
       "2  73LrKm6KryzVw7MYW65Fs7\n",
       "3  1y7pyRgtnfHYnKsslRLeKd\n",
       "4  4W6ci4nxq4vxYL9iCCtXFs"
      ]
     },
     "execution_count": 45,
     "metadata": {},
     "output_type": "execute_result"
    }
   ],
   "source": [
    "df_playlist_id.head()"
   ]
  },
  {
   "cell_type": "code",
   "execution_count": 46,
   "metadata": {},
   "outputs": [],
   "source": [
    "df_playlist_id.to_csv('graph_playlist_id.csv')"
   ]
  },
  {
   "cell_type": "code",
   "execution_count": 47,
   "metadata": {},
   "outputs": [],
   "source": [
    "df_artist_and_track = df[['artist_and_track']]"
   ]
  },
  {
   "cell_type": "code",
   "execution_count": 48,
   "metadata": {},
   "outputs": [],
   "source": [
    "df_artist_and_track = pd.DataFrame(df_artist_and_track['artist_and_track'].unique())"
   ]
  },
  {
   "cell_type": "code",
   "execution_count": 49,
   "metadata": {},
   "outputs": [],
   "source": [
    "df_artist_and_track.columns = ['artist_and_track:ID']"
   ]
  },
  {
   "cell_type": "code",
   "execution_count": 50,
   "metadata": {},
   "outputs": [
    {
     "data": {
      "text/html": [
       "<div>\n",
       "<style scoped>\n",
       "    .dataframe tbody tr th:only-of-type {\n",
       "        vertical-align: middle;\n",
       "    }\n",
       "\n",
       "    .dataframe tbody tr th {\n",
       "        vertical-align: top;\n",
       "    }\n",
       "\n",
       "    .dataframe thead th {\n",
       "        text-align: right;\n",
       "    }\n",
       "</style>\n",
       "<table border=\"1\" class=\"dataframe\">\n",
       "  <thead>\n",
       "    <tr style=\"text-align: right;\">\n",
       "      <th></th>\n",
       "      <th>artist_and_track:ID</th>\n",
       "    </tr>\n",
       "  </thead>\n",
       "  <tbody>\n",
       "    <tr>\n",
       "      <th>0</th>\n",
       "      <td>Appleblim___Forest Drive West|||||Vurstep - Fo...</td>\n",
       "    </tr>\n",
       "    <tr>\n",
       "      <th>1</th>\n",
       "      <td>Gnork___Douala|||||Space Jam (feat. Douala)</td>\n",
       "    </tr>\n",
       "    <tr>\n",
       "      <th>2</th>\n",
       "      <td>Breakage|||||Rudeboy Stuff</td>\n",
       "    </tr>\n",
       "    <tr>\n",
       "      <th>3</th>\n",
       "      <td>Kornél Kovács|||||Panda</td>\n",
       "    </tr>\n",
       "    <tr>\n",
       "      <th>4</th>\n",
       "      <td>GROEF|||||Jan mijne man/Andro/Andro GROEF</td>\n",
       "    </tr>\n",
       "  </tbody>\n",
       "</table>\n",
       "</div>"
      ],
      "text/plain": [
       "                                 artist_and_track:ID\n",
       "0  Appleblim___Forest Drive West|||||Vurstep - Fo...\n",
       "1        Gnork___Douala|||||Space Jam (feat. Douala)\n",
       "2                         Breakage|||||Rudeboy Stuff\n",
       "3                            Kornél Kovács|||||Panda\n",
       "4          GROEF|||||Jan mijne man/Andro/Andro GROEF"
      ]
     },
     "execution_count": 50,
     "metadata": {},
     "output_type": "execute_result"
    }
   ],
   "source": [
    "df_artist_and_track.head()"
   ]
  },
  {
   "cell_type": "code",
   "execution_count": 51,
   "metadata": {},
   "outputs": [],
   "source": [
    "df_artist_and_track.to_csv('graph_artist_and_track.csv')"
   ]
  },
  {
   "cell_type": "code",
   "execution_count": 57,
   "metadata": {},
   "outputs": [
    {
     "name": "stderr",
     "output_type": "stream",
     "text": [
      "/anaconda3/lib/python3.7/site-packages/ipykernel_launcher.py:3: SettingWithCopyWarning: \n",
      "A value is trying to be set on a copy of a slice from a DataFrame.\n",
      "Try using .loc[row_indexer,col_indexer] = value instead\n",
      "\n",
      "See the caveats in the documentation: http://pandas.pydata.org/pandas-docs/stable/indexing.html#indexing-view-versus-copy\n",
      "  This is separate from the ipykernel package so we can avoid doing imports until\n"
     ]
    },
    {
     "data": {
      "text/html": [
       "<div>\n",
       "<style scoped>\n",
       "    .dataframe tbody tr th:only-of-type {\n",
       "        vertical-align: middle;\n",
       "    }\n",
       "\n",
       "    .dataframe tbody tr th {\n",
       "        vertical-align: top;\n",
       "    }\n",
       "\n",
       "    .dataframe thead th {\n",
       "        text-align: right;\n",
       "    }\n",
       "</style>\n",
       "<table border=\"1\" class=\"dataframe\">\n",
       "  <thead>\n",
       "    <tr style=\"text-align: right;\">\n",
       "      <th></th>\n",
       "      <th>:START_ID</th>\n",
       "      <th>:END_ID</th>\n",
       "      <th>:TYPE</th>\n",
       "    </tr>\n",
       "  </thead>\n",
       "  <tbody>\n",
       "    <tr>\n",
       "      <th>0</th>\n",
       "      <td>Appleblim___Forest Drive West|||||Vurstep - Fo...</td>\n",
       "      <td>5tW6vGqn4Z2oPxpgQSncKD</td>\n",
       "      <td>included_in</td>\n",
       "    </tr>\n",
       "    <tr>\n",
       "      <th>1</th>\n",
       "      <td>Gnork___Douala|||||Space Jam (feat. Douala)</td>\n",
       "      <td>5tW6vGqn4Z2oPxpgQSncKD</td>\n",
       "      <td>included_in</td>\n",
       "    </tr>\n",
       "    <tr>\n",
       "      <th>10</th>\n",
       "      <td>Breakage|||||Rudeboy Stuff</td>\n",
       "      <td>5tW6vGqn4Z2oPxpgQSncKD</td>\n",
       "      <td>included_in</td>\n",
       "    </tr>\n",
       "    <tr>\n",
       "      <th>100</th>\n",
       "      <td>Kornél Kovács|||||Panda</td>\n",
       "      <td>5tW6vGqn4Z2oPxpgQSncKD</td>\n",
       "      <td>included_in</td>\n",
       "    </tr>\n",
       "    <tr>\n",
       "      <th>1000</th>\n",
       "      <td>GROEF|||||Jan mijne man/Andro/Andro GROEF</td>\n",
       "      <td>4AehzXKZqJ5VrqPHpsmN6E</td>\n",
       "      <td>included_in</td>\n",
       "    </tr>\n",
       "  </tbody>\n",
       "</table>\n",
       "</div>"
      ],
      "text/plain": [
       "                                              :START_ID  \\\n",
       "0     Appleblim___Forest Drive West|||||Vurstep - Fo...   \n",
       "1           Gnork___Douala|||||Space Jam (feat. Douala)   \n",
       "10                           Breakage|||||Rudeboy Stuff   \n",
       "100                             Kornél Kovács|||||Panda   \n",
       "1000          GROEF|||||Jan mijne man/Andro/Andro GROEF   \n",
       "\n",
       "                     :END_ID        :TYPE  \n",
       "0     5tW6vGqn4Z2oPxpgQSncKD  included_in  \n",
       "1     5tW6vGqn4Z2oPxpgQSncKD  included_in  \n",
       "10    5tW6vGqn4Z2oPxpgQSncKD  included_in  \n",
       "100   5tW6vGqn4Z2oPxpgQSncKD  included_in  \n",
       "1000  4AehzXKZqJ5VrqPHpsmN6E  included_in  "
      ]
     },
     "execution_count": 57,
     "metadata": {},
     "output_type": "execute_result"
    }
   ],
   "source": [
    "df_relations = df[['artist_and_track','playlist_id']]\n",
    "df_relations.columns = [':START_ID',':END_ID']\n",
    "df_relations[':TYPE'] = 'included_in'\n",
    "df_relations.head()"
   ]
  },
  {
   "cell_type": "code",
   "execution_count": 58,
   "metadata": {},
   "outputs": [],
   "source": [
    "df_relations.to_csv('graph_relations.csv')"
   ]
  },
  {
   "cell_type": "code",
   "execution_count": 59,
   "metadata": {},
   "outputs": [
    {
     "data": {
      "text/plain": [
       "(8339, 1)"
      ]
     },
     "execution_count": 59,
     "metadata": {},
     "output_type": "execute_result"
    }
   ],
   "source": [
    "df_playlist_id.shape"
   ]
  },
  {
   "cell_type": "code",
   "execution_count": null,
   "metadata": {},
   "outputs": [],
   "source": []
  }
 ],
 "metadata": {
  "kernelspec": {
   "display_name": "base",
   "language": "python",
   "name": "base"
  },
  "language_info": {
   "codemirror_mode": {
    "name": "ipython",
    "version": 3
   },
   "file_extension": ".py",
   "mimetype": "text/x-python",
   "name": "python",
   "nbconvert_exporter": "python",
   "pygments_lexer": "ipython3",
   "version": "3.7.1"
  },
  "varInspector": {
   "cols": {
    "lenName": 16,
    "lenType": 16,
    "lenVar": 40
   },
   "kernels_config": {
    "python": {
     "delete_cmd_postfix": "",
     "delete_cmd_prefix": "del ",
     "library": "var_list.py",
     "varRefreshCmd": "print(var_dic_list())"
    },
    "r": {
     "delete_cmd_postfix": ") ",
     "delete_cmd_prefix": "rm(",
     "library": "var_list.r",
     "varRefreshCmd": "cat(var_dic_list()) "
    }
   },
   "types_to_exclude": [
    "module",
    "function",
    "builtin_function_or_method",
    "instance",
    "_Feature"
   ],
   "window_display": false
  }
 },
 "nbformat": 4,
 "nbformat_minor": 2
}
