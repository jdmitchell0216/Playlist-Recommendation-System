{
 "cells": [
  {
   "cell_type": "code",
   "execution_count": 108,
   "metadata": {},
   "outputs": [],
   "source": [
    "import pandas as pd, numpy as np, matplotlib.pyplot as plt\n",
    "import requests\n",
    "import json\n",
    "resp = requests.get('http://ws.audioscrobbler.com/2.0/?method=chart.gettopartists&api_key=5e3b5b4e6e817e05e150c2782ba6c4fd&format=json')"
   ]
  },
  {
   "cell_type": "code",
   "execution_count": 30,
   "metadata": {},
   "outputs": [],
   "source": [
    "import pylast\n",
    "\n",
    "# You have to have your own unique two values for API_KEY and API_SECRET\n",
    "# Obtain yours from http://www.last.fm/api/account for Last.fm\n",
    "API_KEY = <API Key>\n",
    "API_SECRET = <API Secret>\n",
    "\n",
    "network = pylast.LastFMNetwork(api_key = API_KEY, api_secret =\n",
    "    API_SECRET)\n",
    "\n",
    "# Add a track\n",
    "track = network.get_track(\"Kanye West\", \"Homecoming\")"
   ]
  },
  {
   "cell_type": "code",
   "execution_count": 1,
   "metadata": {},
   "outputs": [],
   "source": [
    "def get_tags_from_artist(artist_name):\n",
    "    artist = network.get_artist(artist_name)\n",
    "\n",
    "    artist_tags = artist.get_top_tags()\n",
    "    for tag in artist_tags:\n",
    "        print(tag.item.get_name(), tag.weight)"
   ]
  },
  {
   "cell_type": "code",
   "execution_count": 33,
   "metadata": {},
   "outputs": [
    {
     "data": {
      "text/plain": [
       "pylast.Track('Kanye West', 'Homecoming', pylast.LastFMNetwork('5e3b5b4e6e817e05e150c2782ba6c4fd', '067b3d6eb3789d97615b9a13445ac35c', '', '', ''))"
      ]
     },
     "execution_count": 33,
     "metadata": {},
     "output_type": "execute_result"
    }
   ],
   "source": [
    "track"
   ]
  },
  {
   "cell_type": "code",
   "execution_count": 31,
   "metadata": {},
   "outputs": [],
   "source": [
    "top_tags_test=track.get_top_tags()"
   ]
  },
  {
   "cell_type": "code",
   "execution_count": 32,
   "metadata": {
    "scrolled": true
   },
   "outputs": [
    {
     "name": "stdout",
     "output_type": "stream",
     "text": [
      "Hip-Hop 100\n",
      "rap 75\n",
      "Kanye West 75\n",
      "hip hop 44\n",
      "chris martin 20\n",
      "piano 18\n",
      "2007 16\n",
      "00s 16\n",
      "chicago 16\n",
      "catchy 10\n",
      "american 10\n",
      "rnb 10\n",
      "duets 10\n",
      "rhythmic 10\n",
      "alternative 8\n",
      "homecoming 8\n",
      "pop 6\n",
      "oldschool 6\n",
      "Awesome 6\n",
      "hiphop 6\n",
      "Coldplay 6\n",
      "male vocalists 6\n",
      "relax 6\n",
      "love at first listen 6\n",
      "good beat 6\n",
      "hip hip 6\n",
      "seen live 4\n",
      "melodic 4\n",
      "cool 4\n",
      "home 4\n",
      "fuck yeah 4\n",
      "best songs of the 00s 4\n",
      "favs 4\n",
      "good music 4\n",
      "best songs ever 4\n",
      "graduation 4\n",
      "surprisingly awesome 4\n",
      "metal 2\n",
      "electronic 2\n",
      "trip-hop 2\n",
      "chill 2\n",
      "soul 2\n",
      "reggae 2\n",
      "2008 2\n",
      "memories 2\n",
      "urban 2\n",
      "upbeat 2\n",
      "haunting 2\n",
      "Mellow 2\n",
      "nostalgic 2\n",
      "loved 2\n",
      "Uplifting 2\n",
      "mix 2\n",
      "fav 2\n",
      "alternative hip-hop 2\n",
      "best of 2007 2\n",
      "wake up 2\n",
      "design 2\n",
      "Philly 2\n",
      "alternative rap 2\n",
      "Love it 2\n",
      "Masterpiece 2\n",
      "2000s 2\n",
      "pop rap 2\n",
      "friendsofthekingofrummelpop 2\n",
      "eclectonia 2\n",
      "all the best 2\n",
      "east coast rap 2\n",
      "roc-a-fella 2\n",
      "triumphant 2\n",
      "eddie 2\n",
      "Tuesday 2\n",
      "collabo 2\n",
      "my music 2\n",
      "d 2\n",
      "Rapper 2\n",
      "good song 2\n",
      "chill music 2\n",
      "One 2\n",
      "175 bpm 2\n",
      "Makes Me Smile 2\n",
      "midwest rap 2\n",
      "chi-town 2\n",
      "reminisce 2\n",
      "Liebling 2\n",
      "loves it 2\n",
      "pure magic 2\n",
      "songs you must sing along with 2\n",
      "decaf 2\n",
      "hip-hop underground 2\n",
      "-3 2\n",
      "SOAP 2\n",
      "Hip-HopRap 2\n",
      "likeit 2\n",
      "marienhof 2\n",
      "best rapper ever 2\n",
      "def jam records 2\n",
      "pra acordar 2\n",
      "melhor de 2007 2\n",
      "now thats what i call music 2\n"
     ]
    }
   ],
   "source": [
    "for top_tag in top_tags_test:\n",
    "    print(top_tag.item.get_name(), top_tag.weight)"
   ]
  },
  {
   "cell_type": "code",
   "execution_count": 57,
   "metadata": {},
   "outputs": [],
   "source": [
    "kanye = network.get_artist(\"Kanye West\")"
   ]
  },
  {
   "cell_type": "code",
   "execution_count": 75,
   "metadata": {
    "scrolled": true
   },
   "outputs": [
    {
     "name": "stdout",
     "output_type": "stream",
     "text": [
      "Hip-Hop 100\n",
      "rap 69\n",
      "hip hop 40\n",
      "rnb 31\n",
      "Kanye West 24\n",
      "seen live 22\n",
      "Gay Fish 7\n",
      "american 6\n",
      "pop 6\n",
      "chicago 5\n",
      "hiphop 5\n",
      "soul 4\n",
      "electronic 3\n",
      "gayfish 3\n",
      "producer 3\n",
      "alternative 3\n",
      "male vocalists 3\n",
      "00s 3\n",
      "kanye 3\n",
      "indie 2\n",
      "rock 2\n",
      "urban 2\n",
      "experimental 2\n",
      "dance 2\n",
      "r&b 2\n",
      "pop rap 2\n",
      "alternative rap 2\n",
      "electronica 1\n",
      "alternative hip-hop 1\n",
      "USA 1\n",
      "good music 1\n",
      "midwest rap 1\n"
     ]
    }
   ],
   "source": [
    "kanye_top_tags = kanye.get_top_tags()\n",
    "for tag in kanye_top_tags:\n",
    "    print(tag.item.get_name(), tag.weight)"
   ]
  },
  {
   "cell_type": "code",
   "execution_count": 4,
   "metadata": {},
   "outputs": [],
   "source": [
    "df = pd.read_json('new_track_ids2.json')"
   ]
  },
  {
   "cell_type": "code",
   "execution_count": 53,
   "metadata": {},
   "outputs": [
    {
     "data": {
      "text/html": [
       "<div>\n",
       "<style scoped>\n",
       "    .dataframe tbody tr th:only-of-type {\n",
       "        vertical-align: middle;\n",
       "    }\n",
       "\n",
       "    .dataframe tbody tr th {\n",
       "        vertical-align: top;\n",
       "    }\n",
       "\n",
       "    .dataframe thead th {\n",
       "        text-align: right;\n",
       "    }\n",
       "</style>\n",
       "<table border=\"1\" class=\"dataframe\">\n",
       "  <thead>\n",
       "    <tr style=\"text-align: right;\">\n",
       "      <th></th>\n",
       "      <th>added_by_id</th>\n",
       "      <th>album_id</th>\n",
       "      <th>album_name</th>\n",
       "      <th>artist_ids</th>\n",
       "      <th>artist_names</th>\n",
       "      <th>date_added</th>\n",
       "      <th>playlist_id</th>\n",
       "      <th>track_id</th>\n",
       "      <th>track_name</th>\n",
       "      <th>user_id</th>\n",
       "      <th>rating</th>\n",
       "      <th>artists_join</th>\n",
       "      <th>artist_and_track</th>\n",
       "    </tr>\n",
       "  </thead>\n",
       "  <tbody>\n",
       "    <tr>\n",
       "      <th>0</th>\n",
       "      <td>brendan.ta</td>\n",
       "      <td>4uIDigk79DeZEYV6Z5Yf4s</td>\n",
       "      <td>What Went Down</td>\n",
       "      <td>[6FQqZYVfTNQ1pCqfkwVFEa]</td>\n",
       "      <td>[Foals]</td>\n",
       "      <td>2016-03-26T00:48:16Z</td>\n",
       "      <td>3pTPXB3vT93AOTSVozP54o</td>\n",
       "      <td>53L6A3I9vf7rgEZnMzx54E</td>\n",
       "      <td>Mountain At My Gates</td>\n",
       "      <td>brendan.ta</td>\n",
       "      <td>1</td>\n",
       "      <td>Foals</td>\n",
       "      <td>Foals|||||Mountain At My Gates</td>\n",
       "    </tr>\n",
       "    <tr>\n",
       "      <th>1</th>\n",
       "      <td>brendan.ta</td>\n",
       "      <td>4sFhah3DYcJlYeT47q3rhM</td>\n",
       "      <td>In The Silence (Deluxe Version)</td>\n",
       "      <td>[7xUZ4069zcyBM4Bn10NQ1c]</td>\n",
       "      <td>[Ásgeir]</td>\n",
       "      <td>2016-03-26T00:49:53Z</td>\n",
       "      <td>3pTPXB3vT93AOTSVozP54o</td>\n",
       "      <td>6VNo09sojPBi5mdckQkLbX</td>\n",
       "      <td>King and Cross</td>\n",
       "      <td>brendan.ta</td>\n",
       "      <td>1</td>\n",
       "      <td>Ásgeir</td>\n",
       "      <td>Ásgeir|||||King and Cross</td>\n",
       "    </tr>\n",
       "    <tr>\n",
       "      <th>10</th>\n",
       "      <td>brendan.ta</td>\n",
       "      <td>5cOhR878H8hC3UsxYq5Xyv</td>\n",
       "      <td>All My Friends (feat. Tinashe &amp; Chance the Rap...</td>\n",
       "      <td>[2FwJwEswyIUAljqgjNSHgP, 0NIIxcxNHmOoyBx03SfTC...</td>\n",
       "      <td>[Snakehips, Tinashe, Chance the Rapper]</td>\n",
       "      <td>2016-04-29T05:34:47Z</td>\n",
       "      <td>3pTPXB3vT93AOTSVozP54o</td>\n",
       "      <td>6TaqooOXAEcijL6G1AWS2K</td>\n",
       "      <td>All My Friends (feat. Tinashe &amp; Chance the Rap...</td>\n",
       "      <td>brendan.ta</td>\n",
       "      <td>1</td>\n",
       "      <td>Snakehips___Tinashe___Chance the Rapper</td>\n",
       "      <td>Snakehips___Tinashe___Chance the Rapper|||||Al...</td>\n",
       "    </tr>\n",
       "  </tbody>\n",
       "</table>\n",
       "</div>"
      ],
      "text/plain": [
       "   added_by_id                album_id  \\\n",
       "0   brendan.ta  4uIDigk79DeZEYV6Z5Yf4s   \n",
       "1   brendan.ta  4sFhah3DYcJlYeT47q3rhM   \n",
       "10  brendan.ta  5cOhR878H8hC3UsxYq5Xyv   \n",
       "\n",
       "                                           album_name  \\\n",
       "0                                      What Went Down   \n",
       "1                     In The Silence (Deluxe Version)   \n",
       "10  All My Friends (feat. Tinashe & Chance the Rap...   \n",
       "\n",
       "                                           artist_ids  \\\n",
       "0                            [6FQqZYVfTNQ1pCqfkwVFEa]   \n",
       "1                            [7xUZ4069zcyBM4Bn10NQ1c]   \n",
       "10  [2FwJwEswyIUAljqgjNSHgP, 0NIIxcxNHmOoyBx03SfTC...   \n",
       "\n",
       "                               artist_names            date_added  \\\n",
       "0                                   [Foals]  2016-03-26T00:48:16Z   \n",
       "1                                  [Ásgeir]  2016-03-26T00:49:53Z   \n",
       "10  [Snakehips, Tinashe, Chance the Rapper]  2016-04-29T05:34:47Z   \n",
       "\n",
       "               playlist_id                track_id  \\\n",
       "0   3pTPXB3vT93AOTSVozP54o  53L6A3I9vf7rgEZnMzx54E   \n",
       "1   3pTPXB3vT93AOTSVozP54o  6VNo09sojPBi5mdckQkLbX   \n",
       "10  3pTPXB3vT93AOTSVozP54o  6TaqooOXAEcijL6G1AWS2K   \n",
       "\n",
       "                                           track_name     user_id  rating  \\\n",
       "0                                Mountain At My Gates  brendan.ta       1   \n",
       "1                                      King and Cross  brendan.ta       1   \n",
       "10  All My Friends (feat. Tinashe & Chance the Rap...  brendan.ta       1   \n",
       "\n",
       "                               artists_join  \\\n",
       "0                                     Foals   \n",
       "1                                    Ásgeir   \n",
       "10  Snakehips___Tinashe___Chance the Rapper   \n",
       "\n",
       "                                     artist_and_track  \n",
       "0                      Foals|||||Mountain At My Gates  \n",
       "1                           Ásgeir|||||King and Cross  \n",
       "10  Snakehips___Tinashe___Chance the Rapper|||||Al...  "
      ]
     },
     "execution_count": 53,
     "metadata": {},
     "output_type": "execute_result"
    }
   ],
   "source": [
    "df.head(3)"
   ]
  },
  {
   "cell_type": "code",
   "execution_count": 47,
   "metadata": {},
   "outputs": [],
   "source": [
    "artist_set = set()\n",
    "for i in range(1, df.shape[0]):\n",
    "    curr = df.iloc[i].artist_names\n",
    "    for j in curr:\n",
    "        artist_set.add(j)"
   ]
  },
  {
   "cell_type": "code",
   "execution_count": 48,
   "metadata": {},
   "outputs": [
    {
     "data": {
      "text/plain": [
       "101793"
      ]
     },
     "execution_count": 48,
     "metadata": {},
     "output_type": "execute_result"
    }
   ],
   "source": [
    "len(artist_set)"
   ]
  },
  {
   "cell_type": "code",
   "execution_count": 52,
   "metadata": {},
   "outputs": [
    {
     "name": "stdout",
     "output_type": "stream",
     "text": [
      "\n",
      "Estroe\n",
      "Alex Lilly\n",
      "Beatrice Bonifassi\n",
      "Luther Ingram\n",
      "AGST\n",
      "Tommy S.\n",
      "Killed Kassette\n",
      "Duncan Gray\n",
      "People Without Shoes\n"
     ]
    }
   ],
   "source": [
    "artist_list = list(artist_set)\n",
    "for i in range(0,10):\n",
    "    print(artist_list[i])"
   ]
  },
  {
   "cell_type": "code",
   "execution_count": 59,
   "metadata": {},
   "outputs": [
    {
     "name": "stdout",
     "output_type": "stream",
     "text": [
      "-----------------------------------------------------\n",
      "-----------------------------------------------------\n",
      "The artist you supplied could not be found\n",
      "-----------------------------------------------------\n",
      "-----------------------------------------------------\n",
      "minimal 100\n",
      "minimal techno 82\n",
      "techno 63\n",
      "electronic 50\n",
      "tech house 50\n",
      "House 38\n",
      "neotrance 38\n",
      "ambient 32\n",
      "dub 32\n",
      "electro 32\n",
      "idm 32\n",
      "deep house 32\n",
      "nederlands 32\n",
      "zutphen 32\n",
      "gelderland 32\n",
      "instrumental 19\n",
      "connaisseur 19\n",
      "dutch techno 19\n",
      "seen live 13\n",
      "melodic 13\n",
      "emotional 13\n",
      "elegant 13\n",
      "dutch 13\n",
      "netherlands 13\n",
      "Driven 13\n",
      "minimal techno artists 13\n",
      "minimal tech house 13\n",
      "connaisseur superieur 13\n",
      "electronica 7\n",
      "dance 7\n",
      "Love 7\n",
      "remix 7\n",
      "detroit 7\n",
      "beats 7\n",
      "frauen und technik 7\n",
      "mixes 7\n",
      "spotify 7\n",
      "DJ-set 7\n",
      "eevonext elegant intelligent house warm sphere 7\n",
      "sabaimusic 7\n",
      "indoritch 7\n",
      "go4urhousemusic 7\n",
      "-----------------------------------------------------\n",
      "-----------------------------------------------------\n",
      "pop 100\n",
      "USA 100\n",
      "soul 50\n",
      "female vocalists 50\n",
      "10s 50\n",
      "-----------------------------------------------------\n",
      "-----------------------------------------------------\n",
      "french mult 100\n",
      "-----------------------------------------------------\n",
      "-----------------------------------------------------\n",
      "soul 100\n",
      "rhythm and blues 32\n",
      "luther ingram 14\n",
      "70s 11\n",
      "rnb 11\n",
      "vocal jazz 7\n",
      "r&b 7\n",
      "Southern Soul 7\n",
      "male solo artist 7\n",
      "vocal 4\n",
      "male 4\n",
      "60s 4\n",
      "80s 4\n",
      "USA 4\n",
      "memphis soul 4\n",
      "funk 4\n",
      "singer 4\n",
      "Fred Wesley 4\n",
      "songwriter 4\n",
      "gospel 4\n",
      "male vocalists 4\n",
      "love songs 4\n",
      "1970's 4\n",
      "northern soul 4\n",
      "Old School soul 4\n",
      "Jackson 4\n",
      "Tennessee 4\n",
      "stax 4\n",
      "Old School Slow Jams 4\n",
      "classic soul 4\n",
      "1970s Soul 4\n",
      "Jazz Vocal Tag 4\n",
      "ingram 4\n",
      "original Sample for j dilla 4\n",
      "the other man 4\n",
      "Sampled J Dilla 4\n",
      "-----------------------------------------------------\n"
     ]
    }
   ],
   "source": [
    "for i in range(0,5):\n",
    "    try:\n",
    "        print('-----------------------------------------------------')\n",
    "        get_tags_from_artist(artist_list[i])\n",
    "        print('-----------------------------------------------------')\n",
    "    except Exception as e:\n",
    "        print('-----------------------------------------------------')\n",
    "        print(e)\n",
    "        print('-----------------------------------------------------')"
   ]
  },
  {
   "cell_type": "code",
   "execution_count": null,
   "metadata": {},
   "outputs": [],
   "source": []
  }
 ],
 "metadata": {
  "kernelspec": {
   "display_name": "base",
   "language": "python",
   "name": "base"
  },
  "language_info": {
   "codemirror_mode": {
    "name": "ipython",
    "version": 3
   },
   "file_extension": ".py",
   "mimetype": "text/x-python",
   "name": "python",
   "nbconvert_exporter": "python",
   "pygments_lexer": "ipython3",
   "version": "3.7.1"
  },
  "varInspector": {
   "cols": {
    "lenName": 16,
    "lenType": 16,
    "lenVar": 40
   },
   "kernels_config": {
    "python": {
     "delete_cmd_postfix": "",
     "delete_cmd_prefix": "del ",
     "library": "var_list.py",
     "varRefreshCmd": "print(var_dic_list())"
    },
    "r": {
     "delete_cmd_postfix": ") ",
     "delete_cmd_prefix": "rm(",
     "library": "var_list.r",
     "varRefreshCmd": "cat(var_dic_list()) "
    }
   },
   "types_to_exclude": [
    "module",
    "function",
    "builtin_function_or_method",
    "instance",
    "_Feature"
   ],
   "window_display": false
  }
 },
 "nbformat": 4,
 "nbformat_minor": 2
}
